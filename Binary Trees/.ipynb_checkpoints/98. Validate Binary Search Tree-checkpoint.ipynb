{
 "cells": [
  {
   "cell_type": "markdown",
   "id": "6e73be98-c75e-4345-9308-fc918faddef2",
   "metadata": {},
   "source": [
    "https://leetcode.com/problems/validate-binary-search-tree/"
   ]
  },
  {
   "cell_type": "markdown",
   "id": "51d1bdbc-d244-49d9-9800-f5dcae08895b",
   "metadata": {},
   "source": [
    "The main idea here is that we need to keep track of the min and max at each level. It is because we have to have each node satisfy the BST property which is that the right node has to be greater than the parent node and the left node has to be smaller than the parent node. However, checking for only the parent ↔ child condition would not be enough. It is because if we implemented the algo in such a fashion, we could have a case when e.g. right child of a left child is greater than the parent but smaller than the grandparent (e.g. array represented by) [5,1,4,null,null,3,6] - here, the 3 is a left child of a right child but it is lesser than the root 5. Becuase of that, we need to keep track of the maximum and the minimum within which the value of the node has to be. We initialize those to be +- infinity and we update the minimum to be the parent's value for a right child, and the maximum to be the parent's value for a left child. We traverse in a recursive way and return False if the condition is violated. We return true when we reach the leaf node. Code:"
   ]
  },
  {
   "cell_type": "code",
   "execution_count": 1,
   "id": "4e0ecd1f-dab9-4586-ad84-91fbd66a4f83",
   "metadata": {},
   "outputs": [],
   "source": [
    "# Definition for a binary tree node.\n",
    "class TreeNode:\n",
    "    def __init__(self, val=0, left=None, right=None):\n",
    "        self.val = val\n",
    "        self.left = left\n",
    "        self.right = right\n",
    "\n",
    "class Solution:\n",
    "    def isValidBST(self, root: TreeNode) -> bool:\n",
    "        def helper(node, min_, max_):\n",
    "            if not node:\n",
    "                return True\n",
    "            if (min_<node.val) and (node.val<max_):\n",
    "                return helper(node.left, min_, node.val) and helper(node.right, node.val, max_)\n",
    "            else:\n",
    "                return False\n",
    "        return helper(root, float('-inf'), float('inf'))"
   ]
  },
  {
   "cell_type": "code",
   "execution_count": null,
   "id": "d631be9c-a8b0-499b-8aef-ce270f71927f",
   "metadata": {},
   "outputs": [],
   "source": []
  }
 ],
 "metadata": {
  "kernelspec": {
   "display_name": "Python 3",
   "language": "python",
   "name": "python3"
  },
  "language_info": {
   "codemirror_mode": {
    "name": "ipython",
    "version": 3
   },
   "file_extension": ".py",
   "mimetype": "text/x-python",
   "name": "python",
   "nbconvert_exporter": "python",
   "pygments_lexer": "ipython3",
   "version": "3.6.13"
  }
 },
 "nbformat": 4,
 "nbformat_minor": 5
}
