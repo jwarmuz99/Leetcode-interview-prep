{
 "cells": [
  {
   "cell_type": "markdown",
   "id": "8869ea89-4746-4f81-87d0-0e1282526dd9",
   "metadata": {},
   "source": [
    "https://leetcode.com/problems/maximum-product-subarray/"
   ]
  },
  {
   "cell_type": "code",
   "execution_count": 1,
   "id": "736829dc-89c5-4e0c-9d5e-c49b03d82333",
   "metadata": {},
   "outputs": [
    {
     "data": {
      "text/plain": [
       "8"
      ]
     },
     "execution_count": 1,
     "metadata": {},
     "output_type": "execute_result"
    }
   ],
   "source": [
    "# Brute Force\n",
    "class Solution:\n",
    "    def maxProduct(self, nums):\n",
    "        globMax = nums[0]\n",
    "        for i in range(len(nums)-1):\n",
    "            currMax = nums[i]\n",
    "            if currMax>globMax:\n",
    "                globMax=currMax\n",
    "            for j in range(i+1, len(nums)):\n",
    "                currMax *= nums[j]\n",
    "                if currMax>globMax:\n",
    "                    globMax=currMax\n",
    "        if nums[-1]>globMax:\n",
    "            return nums[-1]\n",
    "        return globMax\n",
    "    \n",
    "nums = [-1,2,-3,0,4,-2,-1]\n",
    "Solution().maxProduct(nums)"
   ]
  },
  {
   "cell_type": "markdown",
   "id": "ec5fe9ce-a44f-4467-a340-eba34912d436",
   "metadata": {},
   "source": [
    "## DP Solution\n",
    "Basically, we have 3 cases and their variations:\n",
    "- when there are only positive values -> in this case, the entire array will be the max product\n",
    "- when we have negative values -> odd number of negatives can't comprise a final product but the even one can because they will result in a positive product\n",
    "- when we have a 0 -> a 0 resets our current max product. Everything before and after the 0 is considered as separate subarrays\n",
    "Inspired by thos observations, we can further reason that it would be worth to keep track of the currentMax and currentMin. This is because every next negative number can make our currentMin*nums[i] into a new currentMax and vice versa -> currentMax*nums[i] = currentMin. When we encounter a 0, we will reset our currentMax and currentMin"
   ]
  },
  {
   "cell_type": "code",
   "execution_count": 3,
   "id": "69809437-52e0-4009-81af-0d2f4a26eda6",
   "metadata": {},
   "outputs": [
    {
     "data": {
      "text/plain": [
       "8"
      ]
     },
     "execution_count": 3,
     "metadata": {},
     "output_type": "execute_result"
    }
   ],
   "source": [
    "# DP Solution\n",
    "class Solution:\n",
    "    def maxProduct(self, nums):\n",
    "        # starting default = max product is just the greatest number from the array\n",
    "        globMax = max(nums)\n",
    "        # set curMin and curMax to 1s (due to its multiplicative properties)\n",
    "        curMin, curMax = 1,1\n",
    "        # run through all of the numbers\n",
    "        for i in nums:\n",
    "            # if we encounter a 0, we reset our curMin and curMax, \n",
    "            # as the product of it with everything before and after will be 0\n",
    "            # if zero is the greatest number then we already have this information\n",
    "            if i==0:\n",
    "                curMin, curMax = 1,1\n",
    "            # if it is not a zero, we continue with the algo\n",
    "            else:\n",
    "                # store the current state of the curMax, as we will be updating it first\n",
    "                tmp = curMax\n",
    "                # update the curMax it could be:\n",
    "                # - curMax*i (when curMax and i are both positive)\n",
    "                # - curMin*i (when both curMin and i are negative)\n",
    "                # - i when both of them have been reset because of the 0\n",
    "                curMax = max(curMax*i, curMin*i, i)\n",
    "                # similarly, update the curMin\n",
    "                # remember to use the tmp instead of curMax\n",
    "                curMin = min(tmp*i, curMin*i, i)\n",
    "                # update the globMax\n",
    "                globMax = max(globMax, curMax)\n",
    "        return globMax\n",
    "    \n",
    "nums = [-1,2,-3,0,4,-2,-1]\n",
    "Solution().maxProduct(nums)"
   ]
  },
  {
   "cell_type": "code",
   "execution_count": null,
   "id": "6db7c7c1-5501-4178-9964-584a6ec9adf3",
   "metadata": {},
   "outputs": [],
   "source": []
  }
 ],
 "metadata": {
  "kernelspec": {
   "display_name": "Python 3",
   "language": "python",
   "name": "python3"
  },
  "language_info": {
   "codemirror_mode": {
    "name": "ipython",
    "version": 3
   },
   "file_extension": ".py",
   "mimetype": "text/x-python",
   "name": "python",
   "nbconvert_exporter": "python",
   "pygments_lexer": "ipython3",
   "version": "3.8.8"
  }
 },
 "nbformat": 4,
 "nbformat_minor": 5
}
