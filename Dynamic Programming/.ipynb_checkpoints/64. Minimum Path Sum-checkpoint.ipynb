{
 "cells": [
  {
   "cell_type": "markdown",
   "id": "e60bb0a6-11ee-4c19-9924-d9523126991c",
   "metadata": {},
   "source": [
    "https://leetcode.com/problems/minimum-path-sum/"
   ]
  },
  {
   "cell_type": "markdown",
   "id": "e02efb62-9e69-4514-9843-f7044b076289",
   "metadata": {},
   "source": [
    "This is a typical DP problem. We can sketch out the call graph. From that, we observe that at each step, we will want to take the path that is the minimum from the cell above or the cell to the left. We can create a DP table and use the bottom-up approach to fill it. We start with the edge cases of grid[0][0] and the first row (where the next value depends on the previous to the left) and the first column (where the next value depends on the previous one above). Then, we iterate over the entire matrix filling the DP with our observed formula. Then, the right-bottom is the result."
   ]
  },
  {
   "cell_type": "code",
   "execution_count": 2,
   "id": "514d5a67-e302-434c-9aa9-8d5a6d5ae299",
   "metadata": {},
   "outputs": [],
   "source": [
    "class Solution:\n",
    "    def minPathSum(self, grid) -> int:\n",
    "        # create DPT\n",
    "        dp = [[None for x in range(len(grid[0]))] for y in range(len(grid))]\n",
    "        # fill first position\n",
    "        dp[0][0] = grid[0][0]\n",
    "        # fill first row\n",
    "        for i in range(1, len(grid[0])):\n",
    "            dp[0][i] = dp[0][i-1]+grid[0][i]\n",
    "        # fill first column\n",
    "        for j in range(1, len(grid)):\n",
    "            dp[j][0] = dp[j-1][0]+grid[j][0]\n",
    "            # run through the entire matrix\n",
    "        for i in range(1, len(grid[0])):\n",
    "            for j in range(1, len(grid)):\n",
    "                # at each step, the value we put in the DP is the minimum of the DP's value in the (cell to the left or the cell above) + the value of the grid at this cell\n",
    "                dp[j][i] = min(dp[j][i-1], dp[j-1][i])+grid[j][i]\n",
    "        # the last one is the result        \n",
    "        return dp[-1][-1]"
   ]
  },
  {
   "cell_type": "code",
   "execution_count": null,
   "id": "c2e9b090-d600-493f-8709-912da791e5e9",
   "metadata": {},
   "outputs": [],
   "source": []
  }
 ],
 "metadata": {
  "kernelspec": {
   "display_name": "Python 3",
   "language": "python",
   "name": "python3"
  },
  "language_info": {
   "codemirror_mode": {
    "name": "ipython",
    "version": 3
   },
   "file_extension": ".py",
   "mimetype": "text/x-python",
   "name": "python",
   "nbconvert_exporter": "python",
   "pygments_lexer": "ipython3",
   "version": "3.6.13"
  }
 },
 "nbformat": 4,
 "nbformat_minor": 5
}
