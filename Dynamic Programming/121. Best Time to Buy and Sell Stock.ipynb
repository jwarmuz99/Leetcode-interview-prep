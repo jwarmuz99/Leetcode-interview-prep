{
 "cells": [
  {
   "cell_type": "markdown",
   "id": "088bd91e-f103-482d-abb2-60107b9fc760",
   "metadata": {},
   "source": [
    "https://leetcode.com/problems/best-time-to-buy-and-sell-stock/"
   ]
  },
  {
   "cell_type": "markdown",
   "id": "953a80c8-9817-451b-98ea-b9f4a162f65b",
   "metadata": {},
   "source": [
    "One way in which we can solve this problem is without the use of DP and with 3 array traversals (still O(n)). We create arrays of the greatest value to the right and smallest value to the left and subtract them from one another. Then, we take the maximum of that array and if it's greater than 0, we return it or 0 if not. "
   ]
  },
  {
   "cell_type": "code",
   "execution_count": 2,
   "id": "f31dc35e-7417-412d-b448-b8c1cc3d6820",
   "metadata": {},
   "outputs": [],
   "source": [
    "class Solution:\n",
    "    def maxProfit(self, prices) -> int:\n",
    "        gtr = [None for i in range(len(prices))]\n",
    "        stl = [None for i in range(len(prices))]\n",
    "        currGtr = float(\"-inf\")\n",
    "        currStl = float(\"inf\")\n",
    "        for i in reversed(range(len(prices))):\n",
    "            if prices[i]>currGtr:\n",
    "                currGtr = prices[i]\n",
    "            gtr[i]=currGtr\n",
    "        for i in range(len(prices)):\n",
    "            if prices[i]<currStl:\n",
    "                currStl = prices[i]\n",
    "            stl[i]=currStl\n",
    "        \n",
    "        resArray = [None for i in range(len(prices))]\n",
    "        for i in range(len(resArray)):\n",
    "            resArray[i] = gtr[i]-stl[i]\n",
    "        res = max(resArray)\n",
    "        if res<0:\n",
    "            return 0\n",
    "        else:\n",
    "            return res"
   ]
  },
  {
   "cell_type": "markdown",
   "id": "3f155bfd-408a-42c7-9a68-c28c65260813",
   "metadata": {},
   "source": [
    "Another ways is to use DP. This approach results in much better time and space complexity. The best way to come up with it is to think about the problem as composed of local and global valleys and peaks. We want to find the greatest difference between a valley and a peak. We can do it in one traversal. We initialize a maximum potential profit and the current minimum price. What's important here is to acknowledge that at any given index in the array, the current minimum will always be leading to the maximum profit. In other words, no local minimum after the global minimum has been found can not lead to a greater profit. It can happen before the global minimum is found but not after.  Therefore, we can keep track of the current minimum and at each step check if it exceeds the current max profit. If it does, we update the max profit. And if the value at the current index is less than the current minimum, we update the current minimum."
   ]
  },
  {
   "cell_type": "code",
   "execution_count": 3,
   "id": "c419c3d2-f293-43c4-9e48-4cb340e7d4fe",
   "metadata": {},
   "outputs": [],
   "source": [
    "class Solution:\n",
    "    def maxProfit(self, prices) -> int:\n",
    "        # case for when no profit can be made\n",
    "        if len(prices) == 0 or len(prices) == 1:\n",
    "            return 0\n",
    "        # case for 2 days period\n",
    "        elif len(prices) == 2:\n",
    "            if prices[1]-prices[0]>0:\n",
    "                return prices[1]-prices[0]\n",
    "            else:\n",
    "                return 0\n",
    "        # all other cases\n",
    "        else:\n",
    "            maxProfit = 0\n",
    "            minPrice = prices[0]\n",
    "            for i in range(1, len(prices)):\n",
    "                if prices[i]-minPrice > maxProfit:\n",
    "                    maxProfit = prices[i]-minPrice\n",
    "                if prices[i] < minPrice:\n",
    "                    minPrice = prices[i]\n",
    "        return maxProfit"
   ]
  },
  {
   "cell_type": "code",
   "execution_count": null,
   "id": "ec203c14-4d4a-446d-9ed6-e9167ceb2a64",
   "metadata": {},
   "outputs": [],
   "source": []
  }
 ],
 "metadata": {
  "kernelspec": {
   "display_name": "Python 3",
   "language": "python",
   "name": "python3"
  },
  "language_info": {
   "codemirror_mode": {
    "name": "ipython",
    "version": 3
   },
   "file_extension": ".py",
   "mimetype": "text/x-python",
   "name": "python",
   "nbconvert_exporter": "python",
   "pygments_lexer": "ipython3",
   "version": "3.8.8"
  }
 },
 "nbformat": 4,
 "nbformat_minor": 5
}
