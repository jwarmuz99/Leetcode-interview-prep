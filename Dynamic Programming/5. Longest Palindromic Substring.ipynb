{
 "cells": [
  {
   "cell_type": "markdown",
   "id": "b6043553-c8a6-4a4c-bc55-661a47b9ae70",
   "metadata": {},
   "source": [
    "https://leetcode.com/problems/longest-palindromic-substring/"
   ]
  },
  {
   "cell_type": "markdown",
   "id": "40e27df0-8696-4b9f-b492-9065c35a8911",
   "metadata": {},
   "source": [
    "This problem can be solved with the DP approach, as in the theoretical overview of DP. This approach, however, does not pass in leetcode. It is because of the space complexity. We can solve this problem in another way, which is not really a DP approach. This will require us to expand the palindrome outwards from the centre rather than checking for it on the outer ends. \n",
    "\n",
    "The algorithm is simply to go through each character in the string, considering it to be the center. We have two cases: for odd-length and even-length strings. We basically start at the \"center\" (which is every character in the string) and expand outwards until subsequence is no longer a palindrome"
   ]
  },
  {
   "cell_type": "code",
   "execution_count": 1,
   "id": "2a41b828-d6ab-4105-bdfd-51157dc7c21d",
   "metadata": {},
   "outputs": [],
   "source": [
    "class Solution:\n",
    "    def longestPalindrome(self, s: str) -> str:\n",
    "        # set the initial parameters\n",
    "        greatest = \"\"\n",
    "        gLen = 0\n",
    "        for i in range(len(s)):\n",
    "            # odd case\n",
    "            l, r = i, i\n",
    "            while l>=0 and r<len(s) and s[l]==s[r]:\n",
    "                if gLen<(r-l+1):\n",
    "                    gLen = (r-l+1)\n",
    "                    greatest = s[l:r+1]\n",
    "                l-=1\n",
    "                r+=1\n",
    "                \n",
    "            # even case\n",
    "            l = i\n",
    "            r = i+1\n",
    "            while l>=0 and r<len(s) and s[l]==s[r]:\n",
    "                if gLen<(r-l)+1:\n",
    "                    gLen = (r-l)+1\n",
    "                    greatest = s[l:r+1]\n",
    "                l-=1\n",
    "                r+=1\n",
    "        return greatest"
   ]
  },
  {
   "cell_type": "code",
   "execution_count": null,
   "id": "50c60020-7185-4baf-9256-510921b06977",
   "metadata": {},
   "outputs": [],
   "source": []
  }
 ],
 "metadata": {
  "kernelspec": {
   "display_name": "Python 3",
   "language": "python",
   "name": "python3"
  },
  "language_info": {
   "codemirror_mode": {
    "name": "ipython",
    "version": 3
   },
   "file_extension": ".py",
   "mimetype": "text/x-python",
   "name": "python",
   "nbconvert_exporter": "python",
   "pygments_lexer": "ipython3",
   "version": "3.6.13"
  }
 },
 "nbformat": 4,
 "nbformat_minor": 5
}
