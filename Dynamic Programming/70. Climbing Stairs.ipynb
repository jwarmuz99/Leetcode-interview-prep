{
 "cells": [
  {
   "cell_type": "markdown",
   "id": "0c4d1103-c3fd-473f-820c-87215aed788c",
   "metadata": {},
   "source": [
    "https://leetcode.com/problems/climbing-stairs/"
   ]
  },
  {
   "cell_type": "markdown",
   "id": "53c31e33-4e8c-40d5-9ede-4ad1101a65f4",
   "metadata": {},
   "source": [
    "Very similar DP problem to Fibonacci. Writing out the call graph will guide you to the solution"
   ]
  },
  {
   "cell_type": "code",
   "execution_count": 1,
   "id": "cf230f4d-e4e9-4863-bb1a-69ef03b7ad1c",
   "metadata": {},
   "outputs": [],
   "source": [
    "class Solution:\n",
    "    def climbStairs(self, n: int) -> int:\n",
    "        if n==1:\n",
    "            return 1\n",
    "        if n==2:\n",
    "            return 2\n",
    "        hash_map = {}\n",
    "        hash_map[0] = 0\n",
    "        hash_map[1] = 1\n",
    "        hash_map[2] = 2\n",
    "        x = 2\n",
    "        while x<n:\n",
    "            hash_map[x+1] = hash_map[x]+hash_map[x-1]\n",
    "            x+=1\n",
    "        return hash_map[x]"
   ]
  },
  {
   "cell_type": "code",
   "execution_count": null,
   "id": "ecf870a9-9bb4-4347-a458-c6f9be94c76c",
   "metadata": {},
   "outputs": [],
   "source": []
  }
 ],
 "metadata": {
  "kernelspec": {
   "display_name": "Python 3",
   "language": "python",
   "name": "python3"
  },
  "language_info": {
   "codemirror_mode": {
    "name": "ipython",
    "version": 3
   },
   "file_extension": ".py",
   "mimetype": "text/x-python",
   "name": "python",
   "nbconvert_exporter": "python",
   "pygments_lexer": "ipython3",
   "version": "3.6.13"
  }
 },
 "nbformat": 4,
 "nbformat_minor": 5
}
