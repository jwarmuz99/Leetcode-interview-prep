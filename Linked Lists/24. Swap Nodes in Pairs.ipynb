{
 "cells": [
  {
   "cell_type": "markdown",
   "id": "3a67d1cf-cf7d-4e2a-8630-27aeaa222bb1",
   "metadata": {},
   "source": [
    "https://leetcode.com/problems/swap-nodes-in-pairs/"
   ]
  },
  {
   "cell_type": "code",
   "execution_count": 1,
   "id": "5f9033f4-6f33-4601-b4b5-ba13968347a9",
   "metadata": {},
   "outputs": [],
   "source": [
    "# Definition for singly-linked list.\n",
    "class ListNode:\n",
    "    def __init__(self, val=0, next=None):\n",
    "        self.val = val\n",
    "        self.next = next\n",
    "class Solution:\n",
    "    def swapPairs(self, head: ListNode) -> ListNode:\n",
    "        if (not head):\n",
    "            return head\n",
    "        if (not head.next):\n",
    "            return head\n",
    "        dummy = ListNode(None)\n",
    "        dummy.next = head\n",
    "        prev = dummy\n",
    "        l = head\n",
    "        r = head.next\n",
    "        while l and r:\n",
    "            prev.next = r\n",
    "            l.next = r.next\n",
    "            r.next = l\n",
    "            prev = l\n",
    "            try:\n",
    "                l = l.next\n",
    "                r = l.next\n",
    "            except:\n",
    "                return dummy.next\n",
    "        \n",
    "        return dummy.next\n",
    "    \n",
    "    \n",
    "class Solution:\n",
    "    def swapPairs(self, head: ListNode) -> ListNode:\n",
    "        if head:                                           # first (head) node exists\n",
    "            h = head.next                                  # second node\n",
    "            if h:                                          # second node exists => a pair exists\n",
    "                h.next, head.next = head, h.next           # swap node pair, first node with second => 'h' is new head\n",
    "                h.next.next = self.swapPairs(h.next.next)  # recurse on next pair head\n",
    "                return h              # returns the new head of a swapped node pair\n",
    "        return head                   # returns when a node pair doesn't exist"
   ]
  },
  {
   "cell_type": "code",
   "execution_count": null,
   "id": "a6ca95c3-1d87-4d39-badf-5f1ba50e3965",
   "metadata": {},
   "outputs": [],
   "source": []
  }
 ],
 "metadata": {
  "kernelspec": {
   "display_name": "Python 3",
   "language": "python",
   "name": "python3"
  },
  "language_info": {
   "codemirror_mode": {
    "name": "ipython",
    "version": 3
   },
   "file_extension": ".py",
   "mimetype": "text/x-python",
   "name": "python",
   "nbconvert_exporter": "python",
   "pygments_lexer": "ipython3",
   "version": "3.8.8"
  }
 },
 "nbformat": 4,
 "nbformat_minor": 5
}
