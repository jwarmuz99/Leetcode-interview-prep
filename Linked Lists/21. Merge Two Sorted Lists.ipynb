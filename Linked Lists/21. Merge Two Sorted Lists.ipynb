{
 "cells": [
  {
   "cell_type": "markdown",
   "id": "108d8eb6-4986-4846-a434-463a90595fc5",
   "metadata": {},
   "source": [
    "https://leetcode.com/problems/merge-two-sorted-lists/"
   ]
  },
  {
   "cell_type": "code",
   "execution_count": 2,
   "id": "f9e1f0ee-a2f3-4625-b709-b59c67b9fde5",
   "metadata": {},
   "outputs": [],
   "source": [
    "# Definition for singly-linked list.\n",
    "class ListNode:\n",
    "    def __init__(self, val=0, next=None):\n",
    "        self.val = val\n",
    "        self.next = next\n",
    "class Solution:\n",
    "    def mergeTwoLists(self, l1: ListNode, l2: ListNode) -> ListNode:\n",
    "        dummy = ListNode(None)\n",
    "        curr = dummy\n",
    "        while l1 or l2:\n",
    "            if l1 and l2:\n",
    "                if l1.val<=l2.val:\n",
    "                    curr.next = l1\n",
    "                    l1 = l1.next\n",
    "                else:\n",
    "                    curr.next = l2\n",
    "                    l2 = l2.next\n",
    "            elif l1 and not l2:\n",
    "                curr.next = l1\n",
    "                l1 = l1.next\n",
    "            else:\n",
    "                curr.next = l2\n",
    "                l2 = l2.next\n",
    "            curr = curr.next\n",
    "        return dummy.next"
   ]
  },
  {
   "cell_type": "code",
   "execution_count": null,
   "id": "77257f1b-6715-42ff-a3e4-561a20be904e",
   "metadata": {},
   "outputs": [],
   "source": []
  }
 ],
 "metadata": {
  "kernelspec": {
   "display_name": "Python 3",
   "language": "python",
   "name": "python3"
  },
  "language_info": {
   "codemirror_mode": {
    "name": "ipython",
    "version": 3
   },
   "file_extension": ".py",
   "mimetype": "text/x-python",
   "name": "python",
   "nbconvert_exporter": "python",
   "pygments_lexer": "ipython3",
   "version": "3.6.13"
  }
 },
 "nbformat": 4,
 "nbformat_minor": 5
}
