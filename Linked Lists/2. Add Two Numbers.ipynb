{
 "cells": [
  {
   "cell_type": "markdown",
   "id": "24de4dce-b03f-423a-992b-3fc9f80bed1e",
   "metadata": {},
   "source": [
    "https://leetcode.com/problems/add-two-numbers/"
   ]
  },
  {
   "cell_type": "code",
   "execution_count": 1,
   "id": "e08dce2c-d4a2-44e3-bd4f-fd288f4f5955",
   "metadata": {},
   "outputs": [],
   "source": [
    "# Definition for singly-linked list.\n",
    "class ListNode:\n",
    "    def __init__(self, val=0, next=None):\n",
    "        self.val = val\n",
    "        self.next = next\n",
    "class Solution:\n",
    "    def addTwoNumbers(self, l1, l2):\n",
    "        head = ListNode(0)\n",
    "        finLL = head\n",
    "        leftover = 0\n",
    "    \n",
    "        while l1 or l2 or leftover > 0:\n",
    "        \n",
    "            if l1 and l2:\n",
    "                value = l1.val + l2.val + leftover\n",
    "            \n",
    "                if value >= 10:\n",
    "                    finLL.next = ListNode((value%10))\n",
    "                    leftover = 1\n",
    "                else:\n",
    "                    finLL.next = ListNode((value%10))\n",
    "                    leftover = 0\n",
    "                l1 = l1.next\n",
    "                l2 = l2.next\n",
    "            \n",
    "            elif l1 and not l2:\n",
    "                value = l1.val + leftover\n",
    "            \n",
    "                if value >= 10:\n",
    "                    finLL.next = ListNode((value%10))\n",
    "                    leftover = 1\n",
    "                else:\n",
    "                    finLL.next = ListNode((value%10))\n",
    "                    leftover = 0\n",
    "                l1 = l1.next\n",
    "            \n",
    "            elif not l1 and l2:\n",
    "                value = l2.val+ leftover\n",
    "            \n",
    "                if value >= 10:\n",
    "                    finLL.next = ListNode((value%10))\n",
    "                    leftover = 1\n",
    "                else:\n",
    "                    finLL.next = ListNode((value%10))\n",
    "                    leftover = 0\n",
    "                l2 = l2.next\n",
    "            \n",
    "            else:\n",
    "                finLL.next = ListNode((leftover))\n",
    "                leftover = 0\n",
    "        \n",
    "            finLL = finLL.next\n",
    "        return head.next"
   ]
  },
  {
   "cell_type": "code",
   "execution_count": null,
   "id": "8ba274a7-24b6-434c-b8d4-0acc69eb61e3",
   "metadata": {},
   "outputs": [],
   "source": []
  }
 ],
 "metadata": {
  "kernelspec": {
   "display_name": "Python 3",
   "language": "python",
   "name": "python3"
  },
  "language_info": {
   "codemirror_mode": {
    "name": "ipython",
    "version": 3
   },
   "file_extension": ".py",
   "mimetype": "text/x-python",
   "name": "python",
   "nbconvert_exporter": "python",
   "pygments_lexer": "ipython3",
   "version": "3.6.13"
  }
 },
 "nbformat": 4,
 "nbformat_minor": 5
}
