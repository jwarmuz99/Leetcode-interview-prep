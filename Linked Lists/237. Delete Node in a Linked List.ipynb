{
 "cells": [
  {
   "cell_type": "markdown",
   "id": "b0ae49e8-f6db-43dc-8293-449309a477b3",
   "metadata": {},
   "source": [
    "https://leetcode.com/problems/delete-node-in-a-linked-list/"
   ]
  },
  {
   "cell_type": "code",
   "execution_count": 9,
   "id": "7563c753-a486-4785-a744-434435ada589",
   "metadata": {},
   "outputs": [],
   "source": [
    "# Definition for singly-linked list.\n",
    "class ListNode:\n",
    "    def __init__(self, x):\n",
    "        self.val = x\n",
    "        self.next = None\n",
    "\n",
    "class Solution:\n",
    "    def deleteNode(self, node):\n",
    "        \"\"\"\n",
    "        :type node: ListNode\n",
    "        :rtype: void Do not return anything, modify node in-place instead.\n",
    "        \"\"\"\n",
    "        node.val = node.next.val\n",
    "        node.next = node.next.next"
   ]
  },
  {
   "cell_type": "code",
   "execution_count": 10,
   "id": "58a6e4c7-8827-4355-9088-2856550adec3",
   "metadata": {},
   "outputs": [
    {
     "name": "stdout",
     "output_type": "stream",
     "text": [
      "1 3\n"
     ]
    }
   ],
   "source": [
    "node1 = ListNode(1)\n",
    "node2 = ListNode(2)\n",
    "node3 = ListNode(3)\n",
    "lst = node1\n",
    "lst.next = node2\n",
    "lst.next.next = node3\n",
    "# remove node 2\n",
    "solution = Solution()\n",
    "solution.deleteNode(lst.next)\n",
    "print(lst.val, lst.next.val)"
   ]
  },
  {
   "cell_type": "code",
   "execution_count": null,
   "id": "aec42a77-e381-4cfd-bb16-541e00da78ba",
   "metadata": {},
   "outputs": [],
   "source": []
  }
 ],
 "metadata": {
  "kernelspec": {
   "display_name": "Python 3",
   "language": "python",
   "name": "python3"
  },
  "language_info": {
   "codemirror_mode": {
    "name": "ipython",
    "version": 3
   },
   "file_extension": ".py",
   "mimetype": "text/x-python",
   "name": "python",
   "nbconvert_exporter": "python",
   "pygments_lexer": "ipython3",
   "version": "3.6.13"
  }
 },
 "nbformat": 4,
 "nbformat_minor": 5
}
