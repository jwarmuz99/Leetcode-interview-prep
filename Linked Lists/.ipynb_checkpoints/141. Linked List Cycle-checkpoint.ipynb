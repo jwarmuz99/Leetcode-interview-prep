{
 "cells": [
  {
   "cell_type": "markdown",
   "id": "c0cfe904-3b59-42e9-824e-f72d330af6c3",
   "metadata": {},
   "source": [
    "https://leetcode.com/problems/linked-list-cycle/"
   ]
  },
  {
   "cell_type": "code",
   "execution_count": 1,
   "id": "39ddbbc6-a74a-48ea-a443-07fdb6e6cd8b",
   "metadata": {},
   "outputs": [],
   "source": [
    "# Hint: Use the Two Pointers method \n",
    "\n",
    "# Definition for singly-linked list.\n",
    "class ListNode:\n",
    "    def __init__(self, x):\n",
    "        self.val = x\n",
    "        self.next = None\n",
    "\n",
    "class Solution:\n",
    "    def hasCycle(self, head: ListNode) -> bool:\n",
    "        try:\n",
    "            slow = head\n",
    "            fast = head.next\n",
    "            while slow is not fast:\n",
    "                slow = slow.next\n",
    "                fast = fast.next.next\n",
    "            return True\n",
    "        except:\n",
    "            return False\n",
    "            "
   ]
  },
  {
   "cell_type": "code",
   "execution_count": null,
   "id": "c4b21b0e-36aa-4199-be70-e3874931479d",
   "metadata": {},
   "outputs": [],
   "source": []
  }
 ],
 "metadata": {
  "kernelspec": {
   "display_name": "Python 3",
   "language": "python",
   "name": "python3"
  },
  "language_info": {
   "codemirror_mode": {
    "name": "ipython",
    "version": 3
   },
   "file_extension": ".py",
   "mimetype": "text/x-python",
   "name": "python",
   "nbconvert_exporter": "python",
   "pygments_lexer": "ipython3",
   "version": "3.6.13"
  }
 },
 "nbformat": 4,
 "nbformat_minor": 5
}
