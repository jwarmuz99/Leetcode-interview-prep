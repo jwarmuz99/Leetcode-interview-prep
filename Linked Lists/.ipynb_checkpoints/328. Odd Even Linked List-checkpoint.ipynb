{
 "cells": [
  {
   "cell_type": "markdown",
   "id": "bb12fb8e-7191-4321-9d9c-140f0138377b",
   "metadata": {},
   "source": [
    "https://leetcode.com/problems/odd-even-linked-list/"
   ]
  },
  {
   "cell_type": "markdown",
   "id": "cba971a9-bb75-4211-b3f9-52ce3fdf71a1",
   "metadata": {},
   "source": [
    "Iterate through the LL once, adding to the separate linked lists (for odd and even indices) and proceeding through the linked list accordingly (odd.next = even.next, even.next = odd.next)"
   ]
  },
  {
   "cell_type": "code",
   "execution_count": 1,
   "id": "ac268d37-7cf4-428a-ba03-0701604d889c",
   "metadata": {},
   "outputs": [],
   "source": [
    "# Definition for singly-linked list.\n",
    "class ListNode:\n",
    "    def __init__(self, val=0, next=None):\n",
    "        self.val = val\n",
    "        self.next = next\n",
    "class Solution:\n",
    "    def oddEvenList(self, head: ListNode) -> ListNode:\n",
    "        ## RC ##\n",
    "        ## LOGIC : START WITH BASIC EVEN AND ODD POSITIONS, FOR NEXT ODD APPEND EVENS NEXT AND FOR NEXT EVEN APPEND ODDS NEXT ##\n",
    "        \n",
    "\t\t## TIME COMPLEXITY : O(N) ##\n",
    "\t\t## SPACE COMPLEXITY : O(1) ##\n",
    "\n",
    "        if(not head): \n",
    "            return head\n",
    "        odd = head\n",
    "        even = head.next\n",
    "        evenHead = even\n",
    "        while(even and odd and even.next and odd.next):\n",
    "            odd.next = even.next\n",
    "            odd = odd.next\n",
    "            even.next = odd.next\n",
    "            even = even.next\n",
    "        odd.next = evenHead\n",
    "        return head"
   ]
  },
  {
   "cell_type": "code",
   "execution_count": null,
   "id": "ccd431d8-e61e-437e-bc8f-5f639245efd2",
   "metadata": {},
   "outputs": [],
   "source": []
  }
 ],
 "metadata": {
  "kernelspec": {
   "display_name": "Python 3",
   "language": "python",
   "name": "python3"
  },
  "language_info": {
   "codemirror_mode": {
    "name": "ipython",
    "version": 3
   },
   "file_extension": ".py",
   "mimetype": "text/x-python",
   "name": "python",
   "nbconvert_exporter": "python",
   "pygments_lexer": "ipython3",
   "version": "3.8.8"
  }
 },
 "nbformat": 4,
 "nbformat_minor": 5
}
