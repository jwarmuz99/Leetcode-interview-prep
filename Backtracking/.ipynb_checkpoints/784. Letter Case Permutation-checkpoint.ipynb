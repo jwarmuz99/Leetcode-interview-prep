{
 "cells": [
  {
   "cell_type": "markdown",
   "id": "929399da-4032-46a4-a093-75d94d89d0eb",
   "metadata": {},
   "source": [
    "https://leetcode.com/problems/letter-case-permutation/"
   ]
  },
  {
   "cell_type": "code",
   "execution_count": 2,
   "id": "ff2e6d6a-ee88-4db1-aef6-93f1ac1489b6",
   "metadata": {},
   "outputs": [],
   "source": [
    "class Solution:\n",
    "    def letterCasePermutation(self, s: str):\n",
    "        # initialize the array to store the outputs\n",
    "        output = [\"\"]\n",
    "        # run through each element in the string\n",
    "        for c in s:\n",
    "            # initialize a temporary array of solutions\n",
    "            tmp = []\n",
    "            # check if the element is a character\n",
    "            if c.isalpha():\n",
    "                # if it is a character, add its upper and lower case version to all of the subsolutions that we currently have\n",
    "                for o in output:\n",
    "                    tmp.append(o+c.lower())\n",
    "                    tmp.append(o+c.upper())\n",
    "            # else, meaning that it's a numeric, add it to all of the previous candidate outputs\n",
    "            else:\n",
    "                for o in output:\n",
    "                    tmp.append(o+c)\n",
    "            # set the output to the temporary one (so that we store the elements/numeric added at this iterations)\n",
    "            output = tmp\n",
    "        # return the list of solutions\n",
    "        return output"
   ]
  },
  {
   "cell_type": "code",
   "execution_count": null,
   "id": "ba6c5632-413a-46da-bf2c-bec033b8b29f",
   "metadata": {},
   "outputs": [],
   "source": []
  }
 ],
 "metadata": {
  "kernelspec": {
   "display_name": "Python 3",
   "language": "python",
   "name": "python3"
  },
  "language_info": {
   "codemirror_mode": {
    "name": "ipython",
    "version": 3
   },
   "file_extension": ".py",
   "mimetype": "text/x-python",
   "name": "python",
   "nbconvert_exporter": "python",
   "pygments_lexer": "ipython3",
   "version": "3.6.13"
  }
 },
 "nbformat": 4,
 "nbformat_minor": 5
}
