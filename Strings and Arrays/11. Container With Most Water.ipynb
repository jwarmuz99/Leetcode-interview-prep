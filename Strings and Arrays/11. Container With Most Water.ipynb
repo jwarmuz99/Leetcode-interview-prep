{
 "cells": [
  {
   "cell_type": "markdown",
   "id": "4b91a99e-dc2f-4eeb-b185-696ebde0faa0",
   "metadata": {},
   "source": [
    "https://leetcode.com/problems/container-with-most-water/"
   ]
  },
  {
   "cell_type": "code",
   "execution_count": 2,
   "id": "d1e87194-e9e3-41cc-b561-76512f9f9575",
   "metadata": {},
   "outputs": [],
   "source": [
    "class Solution:\n",
    "    def maxArea(self, height) -> int:\n",
    "        l = 0\n",
    "        r = len(height)-1\n",
    "        globmax = 0\n",
    "\n",
    "        while l<r:\n",
    "            A = min(height[l], height[r])*(r-l)\n",
    "            if A>globmax:\n",
    "                globmax = A\n",
    "            if height[l]<height[r]:\n",
    "                l+=1\n",
    "            else:\n",
    "                r-=1\n",
    "        return globmax"
   ]
  },
  {
   "cell_type": "code",
   "execution_count": null,
   "id": "fce12304-c0f1-4437-8491-e69c786f3a77",
   "metadata": {},
   "outputs": [],
   "source": []
  }
 ],
 "metadata": {
  "kernelspec": {
   "display_name": "Python 3",
   "language": "python",
   "name": "python3"
  },
  "language_info": {
   "codemirror_mode": {
    "name": "ipython",
    "version": 3
   },
   "file_extension": ".py",
   "mimetype": "text/x-python",
   "name": "python",
   "nbconvert_exporter": "python",
   "pygments_lexer": "ipython3",
   "version": "3.6.13"
  }
 },
 "nbformat": 4,
 "nbformat_minor": 5
}
