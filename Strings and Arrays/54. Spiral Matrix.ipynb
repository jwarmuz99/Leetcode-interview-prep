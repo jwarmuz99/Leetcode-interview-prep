{
 "cells": [
  {
   "cell_type": "markdown",
   "id": "afd9adf4-bf20-4895-9e47-a52284e940c1",
   "metadata": {},
   "source": [
    "https://leetcode.com/problems/spiral-matrix/"
   ]
  },
  {
   "cell_type": "code",
   "execution_count": 12,
   "id": "641c9697-e277-4699-9f37-3e8bed8142d0",
   "metadata": {},
   "outputs": [
    {
     "data": {
      "text/plain": [
       "[1, 2, 3, 4, 5, 6, 7, 8, 9, 10, 11, 12, 13, 14, 15, 16]"
      ]
     },
     "execution_count": 12,
     "metadata": {},
     "output_type": "execute_result"
    }
   ],
   "source": [
    "class Solution:\n",
    "    def spiralOrder(self, matrix):\n",
    "        rows = len(matrix)\n",
    "        cols = len(matrix[0])\n",
    "        l, r = 0, cols-1\n",
    "        u, d = 0, rows-1\n",
    "        out = []\n",
    "        while len(out)<rows*cols:\n",
    "            # traverse right\n",
    "            # traverse till the end\n",
    "            for col in range(l, r+1):\n",
    "                out.append(matrix[u][col])\n",
    "\n",
    "            # traverse down\n",
    "            # traverse till the end\n",
    "            # account for the fact that the last element of the previous loop \n",
    "            # could be the first element of this loop\n",
    "            # because of that, start from u+1\n",
    "            for row in range(u+1, d+1):\n",
    "                out.append(matrix[row][r])\n",
    "\n",
    "            # make sure we are not on the same row\n",
    "            if u!=d:\n",
    "                # traverse left\n",
    "                # account for the fact that the last element from the previous loop\n",
    "                # could be the first element of this loop\n",
    "                # because of that, iterate from r-1\n",
    "                for col in range(r-1, l-1, -1):\n",
    "                    out.append(matrix[d][col])\n",
    "\n",
    "            # make sure we are not on the same col\n",
    "            if l!=r:\n",
    "                # traverse up\n",
    "                # account for the fact that the last element of the previous loop \n",
    "                # could be the first element of this loop\n",
    "                # because of that iterate from u-1\n",
    "                # we can achieve it when our range ends at u, as the upper boundary is non-inclusive in python\n",
    "                for row in range(d-1, u, -1):\n",
    "                    out.append(matrix[row][l])\n",
    "            \n",
    "            # update the boundaries\n",
    "            l+=1\n",
    "            r-=1\n",
    "            u+=1\n",
    "            d-=1\n",
    "            \n",
    "        return out\n",
    "\n",
    "matrix = [\n",
    "    [1,2,3,4],\n",
    "    [12,13,14,5],\n",
    "    [11,16,15,6],\n",
    "    [10,9,8,7]\n",
    "]\n",
    "Solution().spiralOrder(matrix)"
   ]
  },
  {
   "cell_type": "code",
   "execution_count": null,
   "id": "c3c07831-7ee0-43fc-8cab-1f6ca1239400",
   "metadata": {},
   "outputs": [],
   "source": []
  },
  {
   "cell_type": "code",
   "execution_count": null,
   "id": "166d9384-e70b-4268-b839-76a530cf9cc9",
   "metadata": {},
   "outputs": [],
   "source": []
  }
 ],
 "metadata": {
  "kernelspec": {
   "display_name": "Python 3",
   "language": "python",
   "name": "python3"
  },
  "language_info": {
   "codemirror_mode": {
    "name": "ipython",
    "version": 3
   },
   "file_extension": ".py",
   "mimetype": "text/x-python",
   "name": "python",
   "nbconvert_exporter": "python",
   "pygments_lexer": "ipython3",
   "version": "3.6.13"
  }
 },
 "nbformat": 4,
 "nbformat_minor": 5
}
