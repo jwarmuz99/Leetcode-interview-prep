{
 "cells": [
  {
   "cell_type": "markdown",
   "id": "041e66c9-d4a1-45ec-8a1b-ce7b32f469db",
   "metadata": {},
   "source": [
    "https://leetcode.com/problems/product-of-array-except-self/"
   ]
  },
  {
   "cell_type": "markdown",
   "id": "2a2f501b-fc92-46c1-8535-ee72e0d61df8",
   "metadata": {},
   "source": [
    "## Approach 1 (Brute Force)"
   ]
  },
  {
   "cell_type": "code",
   "execution_count": 2,
   "id": "990eeeba-40b4-478e-b29e-4c305883e107",
   "metadata": {},
   "outputs": [
    {
     "data": {
      "text/plain": [
       "True"
      ]
     },
     "execution_count": 2,
     "metadata": {},
     "output_type": "execute_result"
    }
   ],
   "source": [
    "class Solution:\n",
    "    def productExceptSelf(self, nums):\n",
    "        zero = 0\n",
    "        int_ = False\n",
    "        prod = 1\n",
    "        sum_ = 0\n",
    "        for i in nums:\n",
    "            sum_ += i\n",
    "            if i == 0:\n",
    "                zero += 1\n",
    "            else:\n",
    "                int_ = True\n",
    "                prod *= i\n",
    "        for i in range(len(nums)):\n",
    "            if (sum_ == 0 and not int_) or (zero>1):\n",
    "                return [0 for i in range(len(nums))]\n",
    "            if zero == 0:\n",
    "                nums[i] = int(prod*(nums[i]**(-1)))\n",
    "            elif (zero>0 and nums[i] != 0):\n",
    "                nums[i] = 0\n",
    "            elif zero>0 and nums[i]==0:\n",
    "                nums[i]=prod\n",
    "        return nums\n",
    "    \n",
    "nums = [2,1,4,5,2]\n",
    "output = [40,80,20,16,40]\n",
    "Solution().productExceptSelf(nums)==output"
   ]
  },
  {
   "cell_type": "markdown",
   "id": "d2c94256-9468-4572-a7fe-677a504f3a8e",
   "metadata": {},
   "source": [
    "## Approach 2 (Prefix Postfix Pass)\n",
    "\n",
    "In order to get a product of all the integers in the array except for the value at the index, we need to multiply all the values that are before that index with all of the values after that index. We can kepp 2 arrays:\n",
    "- prefix: this array contains the running product of all of the values before the value at index\n",
    "- postfix: this array contains the running product (in reverse order) of all the values after the index\n",
    "\n",
    "Then, we can multiply the values at correct indices (i-1 for prefix and i+1 for postfix) from those helper arrays to achieve the desired output. However, we can make it more efficient by ditching the helper arrays and simply running 2 loops over the input array. We will maintain the prefix and postfix products and multiply them to get the final array. The pseudocode would look the following way:\n",
    "\n",
    "- initialize output array to 1s\n",
    "- initialize prefix to 1\n",
    "- run loop for length of nums:\n",
    "    - add current prefix to the array (multiply by the 1s that are stored there)\n",
    "    - update the prefix by multiplying by the value from nums[i]\n",
    "- initialize the postfix to 1\n",
    "- run loop for length of nums in reverse order:\n",
    "    - update a value in the output array by multiplying by the prefix stored in the output array at the given index\n",
    "    - update the postfix by multiplying by the value from nums[i]\n",
    "- return output array"
   ]
  },
  {
   "cell_type": "code",
   "execution_count": 3,
   "id": "09f560c8-4a6d-419e-a5ce-da8dd6e17d1c",
   "metadata": {},
   "outputs": [
    {
     "data": {
      "text/plain": [
       "True"
      ]
     },
     "execution_count": 3,
     "metadata": {},
     "output_type": "execute_result"
    }
   ],
   "source": [
    "class Solution:\n",
    "    def productExceptSelf(self, nums):\n",
    "        out = [1 for i in range(len(nums))]\n",
    "        prefix = 1\n",
    "        for i in range(len(nums)):\n",
    "            out[i] *= prefix\n",
    "            prefix *= nums[i]\n",
    "        postfix = 1\n",
    "        for i in reversed(range(len(nums))):\n",
    "            out[i] *= postfix\n",
    "            postfix *= nums[i]\n",
    "        return out\n",
    "    \n",
    "nums = [2,1,4,5,2]\n",
    "output = [40,80,20,16,40]\n",
    "Solution().productExceptSelf(nums)==output"
   ]
  },
  {
   "cell_type": "code",
   "execution_count": null,
   "id": "09822e02-3344-4aab-8204-abdd49694637",
   "metadata": {},
   "outputs": [],
   "source": []
  }
 ],
 "metadata": {
  "kernelspec": {
   "display_name": "Python 3",
   "language": "python",
   "name": "python3"
  },
  "language_info": {
   "codemirror_mode": {
    "name": "ipython",
    "version": 3
   },
   "file_extension": ".py",
   "mimetype": "text/x-python",
   "name": "python",
   "nbconvert_exporter": "python",
   "pygments_lexer": "ipython3",
   "version": "3.6.13"
  }
 },
 "nbformat": 4,
 "nbformat_minor": 5
}
