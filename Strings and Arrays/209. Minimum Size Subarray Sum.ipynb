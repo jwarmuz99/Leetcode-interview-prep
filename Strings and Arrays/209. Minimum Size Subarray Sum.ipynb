{
 "cells": [
  {
   "cell_type": "markdown",
   "id": "41e075a7-1236-4923-b832-6fac96cd4928",
   "metadata": {},
   "source": [
    "https://leetcode.com/problems/minimum-size-subarray-sum/"
   ]
  },
  {
   "cell_type": "code",
   "execution_count": 2,
   "id": "aa331b64-08c6-4648-afc6-cddc99b6e651",
   "metadata": {},
   "outputs": [],
   "source": [
    "class Solution:\n",
    "    def minSubArrayLen(self, target: int, nums) -> int:\n",
    "        start_idx = 0\n",
    "        min_length, subarray_sum = float('inf'), 0\n",
    "    \n",
    "        for end_idx in range(len(nums)):\n",
    "            subarray_sum += nums[end_idx]\n",
    "            while subarray_sum >= target:\n",
    "                min_length = min(min_length, end_idx - start_idx + 1)\n",
    "                subarray_sum -= nums[start_idx]\n",
    "                start_idx += 1\n",
    "        if min_length == float('inf'):\n",
    "            return 0\n",
    "        return min_length"
   ]
  },
  {
   "cell_type": "code",
   "execution_count": null,
   "id": "8c3515c1-4794-48b6-ae75-e775c719f713",
   "metadata": {},
   "outputs": [],
   "source": []
  }
 ],
 "metadata": {
  "kernelspec": {
   "display_name": "Python 3",
   "language": "python",
   "name": "python3"
  },
  "language_info": {
   "codemirror_mode": {
    "name": "ipython",
    "version": 3
   },
   "file_extension": ".py",
   "mimetype": "text/x-python",
   "name": "python",
   "nbconvert_exporter": "python",
   "pygments_lexer": "ipython3",
   "version": "3.6.13"
  }
 },
 "nbformat": 4,
 "nbformat_minor": 5
}
