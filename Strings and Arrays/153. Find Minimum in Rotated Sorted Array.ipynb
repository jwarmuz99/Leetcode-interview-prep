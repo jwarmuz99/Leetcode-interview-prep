{
 "cells": [
  {
   "cell_type": "markdown",
   "id": "eae4b6f4-915a-474a-9907-41c4b666c26c",
   "metadata": {},
   "source": [
    "https://leetcode.com/problems/find-minimum-in-rotated-sorted-array/"
   ]
  },
  {
   "cell_type": "code",
   "execution_count": 8,
   "id": "6cce9960-18c6-49f7-9123-ce4ed11cf236",
   "metadata": {},
   "outputs": [
    {
     "data": {
      "text/plain": [
       "0"
      ]
     },
     "execution_count": 8,
     "metadata": {},
     "output_type": "execute_result"
    }
   ],
   "source": [
    "# First solution\n",
    "class Solution:\n",
    "    def findMin(self, nums):\n",
    "        # case for when the array is of len==1\n",
    "        if len(nums)==1:\n",
    "            return nums[0]\n",
    "        # setting up left and right pointer\n",
    "        l = 0\n",
    "        r = len(nums)-1\n",
    "        # if the value at the left pointer is less than the value at the right pointer, \n",
    "        # it means that the noRotation%len(array)==0 and the first element is the smallest\n",
    "        if nums[l]<nums[r]:\n",
    "            return nums[l]\n",
    "        # main application of the binary sort\n",
    "        # we keep on iterating until the pointers meet or the minimum is found beforehand\n",
    "        # in practice, if the input data is correct, the while will always terminate before l>r\n",
    "        while l <= r:\n",
    "            # finding the mid point of the array\n",
    "            mid = l + (r-l)//2\n",
    "            # checking the case for when mid+1 is the minimum (meaning that mid is inflection point)\n",
    "            if nums[mid]>nums[mid+1]:\n",
    "                return nums[mid+1]\n",
    "            # checking for when mid is the minimum (meaning that mid-1 is inflection point)\n",
    "            if nums[mid-1]>nums[mid]:\n",
    "                return nums[mid]\n",
    "            # if mid is greater than the first value, the inflection point has to be on the right\n",
    "            # of the mid, meaning that the inflection point and the minimum are on the right\n",
    "            # because of that we change the left pointer to be on the mid (+1)\n",
    "            if nums[mid] > nums[0]:\n",
    "                l = mid + 1\n",
    "            # else, the inflection point has to be on the left of the middle pointer\n",
    "            # because of that, we change the right pointer to be on the mid (-1)\n",
    "            else:\n",
    "                r = mid - 1\n",
    "    \n",
    "nums = [4,5,6,7,0,1,2,3]\n",
    "Solution().findMin(nums)"
   ]
  },
  {
   "cell_type": "code",
   "execution_count": 6,
   "id": "4cf26a0c-53b4-49c4-b4a1-d2fbdb720651",
   "metadata": {},
   "outputs": [
    {
     "data": {
      "text/plain": [
       "0"
      ]
     },
     "execution_count": 6,
     "metadata": {},
     "output_type": "execute_result"
    }
   ],
   "source": [
    "# Slightly modified\n",
    "class Solution:\n",
    "    def findMin(self, nums):\n",
    "        if len(nums)==1:\n",
    "            return nums[0]\n",
    "        l = 0\n",
    "        r = len(nums)-1\n",
    "        if nums[l]<nums[r]:\n",
    "            return nums[l]\n",
    "        mid = len(nums)//2\n",
    "        while l<r:\n",
    "            if nums[l]<nums[mid]:\n",
    "                l = mid\n",
    "                mid = l+(r-l)//2\n",
    "                if nums[l]>nums[l+1]:\n",
    "                    return nums[l+1]\n",
    "            else:\n",
    "                r = mid\n",
    "                mid = l+(r-l)//2\n",
    "                if nums[mid]>nums[mid+1]:\n",
    "                    return nums[mid+1]\n",
    "            \n",
    "        return nums[l]\n",
    "    \n",
    "nums = [4,5,6,7,0,1,2,3]\n",
    "Solution().findMin(nums)"
   ]
  },
  {
   "cell_type": "code",
   "execution_count": null,
   "id": "23c4a946-2cae-4cee-ad30-700ef5eade5e",
   "metadata": {},
   "outputs": [],
   "source": []
  }
 ],
 "metadata": {
  "kernelspec": {
   "display_name": "Python 3",
   "language": "python",
   "name": "python3"
  },
  "language_info": {
   "codemirror_mode": {
    "name": "ipython",
    "version": 3
   },
   "file_extension": ".py",
   "mimetype": "text/x-python",
   "name": "python",
   "nbconvert_exporter": "python",
   "pygments_lexer": "ipython3",
   "version": "3.6.13"
  }
 },
 "nbformat": 4,
 "nbformat_minor": 5
}
