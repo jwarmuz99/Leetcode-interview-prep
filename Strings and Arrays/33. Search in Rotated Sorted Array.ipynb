{
 "cells": [
  {
   "cell_type": "markdown",
   "id": "ae3e6970-94c1-48af-9b1a-2bb35210f846",
   "metadata": {},
   "source": [
    "https://leetcode.com/problems/search-in-rotated-sorted-array/"
   ]
  },
  {
   "cell_type": "code",
   "execution_count": 2,
   "id": "9c144967-b273-4ed8-a7d8-f5b205d6c82c",
   "metadata": {},
   "outputs": [
    {
     "data": {
      "text/plain": [
       "-1"
      ]
     },
     "execution_count": 2,
     "metadata": {},
     "output_type": "execute_result"
    }
   ],
   "source": [
    "class Solution:\n",
    "    def search(self, nums, target: int):\n",
    "        if len(nums)==1:\n",
    "            if target==nums[0]:\n",
    "                return 0\n",
    "            else:\n",
    "                return -1\n",
    "            \n",
    "        minidx = self.findMin(nums)\n",
    "        left = nums[:minidx]\n",
    "        right = nums[minidx:]\n",
    "        leftidx = self.binarysearch(left, target)\n",
    "        rightidx = self.binarysearch(right, target)\n",
    "        if (leftidx == -1) and (rightidx != -1):\n",
    "            rightidx += len(left)\n",
    "        return max(-1, leftidx, rightidx)\n",
    "        \n",
    "            \n",
    "    def binarysearch(self, nums, x):\n",
    "        low = 0\n",
    "        high = len(nums) - 1\n",
    "        mid = 0\n",
    "     \n",
    "        while low <= high:\n",
    "     \n",
    "            mid = (high + low) // 2\n",
    "     \n",
    "            # If x is greater, ignore left half\n",
    "            if nums[mid] < x:\n",
    "                low = mid + 1\n",
    "     \n",
    "            # If x is smaller, ignore right half\n",
    "            elif nums[mid] > x:\n",
    "                high = mid - 1\n",
    "     \n",
    "            # means x is present at mid\n",
    "            else:\n",
    "                return mid\n",
    "     \n",
    "        # If we reach here, then the element was not present\n",
    "        return -1\n",
    "            \n",
    "    \n",
    "    def findMin(self, nums):\n",
    "        # case for when the array is of len==1\n",
    "        if len(nums)==1:\n",
    "            return nums[0]\n",
    "        # setting up left and right pointer\n",
    "        l = 0\n",
    "        r = len(nums)-1\n",
    "        # if the value at the left pointer is less than the value at the right pointer, \n",
    "        # it means that the noRotation%len(array)==0 and the first element is the smallest\n",
    "        if nums[l]<nums[r]:\n",
    "            return l\n",
    "        # main application of the binary sort\n",
    "        # we keep on iterating until the pointers meet or the minimum is found beforehand\n",
    "        # in practice, if the input data is correct, the while will always terminate before l>r\n",
    "        while l <= r:\n",
    "            # finding the mid point of the array\n",
    "            mid = l + (r-l)//2\n",
    "            # checking the case for when mid+1 is the minimum (meaning that mid is inflection point)\n",
    "            if nums[mid]>nums[mid+1]:\n",
    "                return mid+1\n",
    "            # checking for when mid is the minimum (meaning that mid-1 is inflection point)\n",
    "            if nums[mid-1]>nums[mid]:\n",
    "                return mid\n",
    "            # if mid is greater than the first value, the inflection point has to be on the right\n",
    "            # of the mid, meaning that the inflection point and the minimum are on the right\n",
    "            # because of that we change the left pointer to be on the mid (+1)\n",
    "            if nums[mid] > nums[0]:\n",
    "                l = mid + 1\n",
    "            # else, the inflection point has to be on the left of the middle pointer\n",
    "            # because of that, we change the right pointer to be on the mid (-1)\n",
    "            else:\n",
    "                r = mid - 1\n",
    "            \n",
    "            \n",
    "nums = [4,5,6,7,0,1,2]\n",
    "target = 3\n",
    "Solution().search(nums, target)"
   ]
  },
  {
   "cell_type": "code",
   "execution_count": 3,
   "id": "0669bd7a-5569-4f93-9b3a-4780f637c05d",
   "metadata": {},
   "outputs": [
    {
     "data": {
      "text/plain": [
       "2"
      ]
     },
     "execution_count": 3,
     "metadata": {},
     "output_type": "execute_result"
    }
   ],
   "source": [
    "nums = [4,5,6,7,0,1,2]\n",
    "target = 6\n",
    "Solution().search(nums, target)"
   ]
  },
  {
   "cell_type": "code",
   "execution_count": null,
   "id": "48ce1d9a-dadc-407e-a201-507587cbddc3",
   "metadata": {},
   "outputs": [],
   "source": []
  }
 ],
 "metadata": {
  "kernelspec": {
   "display_name": "Python 3",
   "language": "python",
   "name": "python3"
  },
  "language_info": {
   "codemirror_mode": {
    "name": "ipython",
    "version": 3
   },
   "file_extension": ".py",
   "mimetype": "text/x-python",
   "name": "python",
   "nbconvert_exporter": "python",
   "pygments_lexer": "ipython3",
   "version": "3.6.13"
  }
 },
 "nbformat": 4,
 "nbformat_minor": 5
}
