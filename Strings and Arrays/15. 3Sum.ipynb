{
 "cells": [
  {
   "cell_type": "markdown",
   "id": "d1a0d88f-2dda-4730-8598-76b44273a905",
   "metadata": {},
   "source": [
    "https://leetcode.com/problems/3sum/"
   ]
  },
  {
   "cell_type": "code",
   "execution_count": null,
   "id": "7c86fb2b-1477-453e-a647-29186ec3de2b",
   "metadata": {},
   "outputs": [],
   "source": [
    "class Solution:\n",
    "    def threeSum(self, nums: List[int]) -> List[List[int]]:\n",
    "        if len(nums)<3:\n",
    "            return []\n",
    "        nums.sort()\n",
    "        result = []\n",
    "        # we don't want the duplicates, so we will skip each duplication for the first value in the triplet\n",
    "        # besides that, we run the for loop for the first element in of the triplet\n",
    "        for i, a in enumerate(nums):\n",
    "            if i > 0 and a == nums[i-1]:\n",
    "                continue\n",
    "            l = i+1\n",
    "            r = len(nums)-1\n",
    "            while l<r:\n",
    "                ts = a+nums[l]+nums[r]\n",
    "                if ts<0:\n",
    "                    l+=1\n",
    "                elif ts>0:\n",
    "                    r-=1\n",
    "                else:\n",
    "                    result.append([a, nums[l], nums[r]])\n",
    "                    l+=1\n",
    "                    # now, we don't want to have the duplicates \n",
    "                    # we can avoid that by keeping on incrementing the left pointer \n",
    "                    # until its value is not equal to the next value\n",
    "                    # we also have to make sure that we don't increment above r\n",
    "                    while nums[l]==nums[l-1] and l<r:\n",
    "                        l+=1\n",
    "        return result\n",
    "                    "
   ]
  },
  {
   "cell_type": "code",
   "execution_count": 2,
   "id": "feba64eb-689f-4087-99b2-8f3c2a679d6c",
   "metadata": {},
   "outputs": [
    {
     "name": "stdout",
     "output_type": "stream",
     "text": [
      "0 3\n",
      "1 3\n",
      "2 7\n",
      "3 4\n",
      "4 8\n",
      "5 6\n"
     ]
    }
   ],
   "source": [
    "nums = [3,3,7,4,8,6]\n",
    "for i, a in enumerate(nums):\n",
    "    print(i, a)"
   ]
  },
  {
   "cell_type": "code",
   "execution_count": null,
   "id": "1218568b-41a0-4f2c-b55a-c18f283ffc1d",
   "metadata": {},
   "outputs": [],
   "source": []
  }
 ],
 "metadata": {
  "kernelspec": {
   "display_name": "Python 3",
   "language": "python",
   "name": "python3"
  },
  "language_info": {
   "codemirror_mode": {
    "name": "ipython",
    "version": 3
   },
   "file_extension": ".py",
   "mimetype": "text/x-python",
   "name": "python",
   "nbconvert_exporter": "python",
   "pygments_lexer": "ipython3",
   "version": "3.6.13"
  }
 },
 "nbformat": 4,
 "nbformat_minor": 5
}
