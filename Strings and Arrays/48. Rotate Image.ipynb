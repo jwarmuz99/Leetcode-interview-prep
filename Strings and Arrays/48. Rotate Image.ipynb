{
 "cells": [
  {
   "cell_type": "markdown",
   "id": "c4520278-ae33-4277-865c-d11233c0d7cb",
   "metadata": {},
   "source": [
    "https://leetcode.com/problems/rotate-image/"
   ]
  },
  {
   "cell_type": "code",
   "execution_count": 11,
   "id": "052d77b7-4560-446e-9338-a4866ca5d6b8",
   "metadata": {},
   "outputs": [
    {
     "data": {
      "text/plain": [
       "[[7, 4, 1], [8, 5, 2], [9, 6, 3]]"
      ]
     },
     "execution_count": 11,
     "metadata": {},
     "output_type": "execute_result"
    }
   ],
   "source": [
    "# First easy way - use numpy which has this function built-in\n",
    "import numpy as np\n",
    "class Solution:\n",
    "    def rotate(self, matrix):\n",
    "        \"\"\"\n",
    "        Do not return anything, modify matrix in-place instead.\n",
    "        \"\"\"\n",
    "        out = np.rot90(np.array(matrix), 3)\n",
    "        for i in range(len(matrix)):\n",
    "            for j in range(len(matrix[0])):\n",
    "                matrix[i][j] = out[i][j]\n",
    "        return matrix\n",
    "matrix = [[1,2,3],[4,5,6],[7,8,9]]\n",
    "Solution().rotate(matrix)"
   ]
  },
  {
   "cell_type": "code",
   "execution_count": 24,
   "id": "66182a5e-c15c-4dba-8341-8087e7c0d609",
   "metadata": {},
   "outputs": [
    {
     "data": {
      "text/plain": [
       "[[7, 4, 1], [8, 5, 2], [9, 6, 3]]"
      ]
     },
     "execution_count": 24,
     "metadata": {},
     "output_type": "execute_result"
    }
   ],
   "source": [
    "# Second easy way - copy the matrix, access the columns with numpy, and change rows of the original arrays to those columns\n",
    "import numpy as np\n",
    "class Solution:\n",
    "    def rotate(self, matrix):\n",
    "        \"\"\"\n",
    "        Do not return anything, modify matrix in-place instead.\n",
    "        \"\"\"\n",
    "        out = np.array(matrix)\n",
    "        for i in range(len(matrix[0])):\n",
    "            matrix[i] = out[:,i].tolist()[::-1]\n",
    "        return matrix\n",
    "matrix = [[1,2,3],[4,5,6],[7,8,9]]\n",
    "Solution().rotate(matrix)"
   ]
  },
  {
   "cell_type": "code",
   "execution_count": 31,
   "id": "3924354a-7df9-4652-9b62-2b9468ddb059",
   "metadata": {},
   "outputs": [
    {
     "data": {
      "text/plain": [
       "[[7, 4, 1], [8, 5, 2], [9, 6, 3]]"
      ]
     },
     "execution_count": 31,
     "metadata": {},
     "output_type": "execute_result"
    }
   ],
   "source": [
    "# Third - without the use of numpy. Access the column and set it to the row of original matrix\n",
    "class Solution:\n",
    "    def rotate(self, matrix):\n",
    "        \"\"\"\n",
    "        Do not return anything, modify matrix in-place instead.\n",
    "        \"\"\"\n",
    "        out = matrix[:]\n",
    "        for i in range(len(matrix[0])):\n",
    "            matrix[i] = [row[i] for row in out][::-1]\n",
    "        return matrix\n",
    "matrix = [[1,2,3],[4,5,6],[7,8,9]]\n",
    "Solution().rotate(matrix)"
   ]
  },
  {
   "cell_type": "code",
   "execution_count": null,
   "id": "d37f3246-09e8-4c93-ad7b-5cda2d9cc7be",
   "metadata": {},
   "outputs": [],
   "source": []
  }
 ],
 "metadata": {
  "kernelspec": {
   "display_name": "Python 3",
   "language": "python",
   "name": "python3"
  },
  "language_info": {
   "codemirror_mode": {
    "name": "ipython",
    "version": 3
   },
   "file_extension": ".py",
   "mimetype": "text/x-python",
   "name": "python",
   "nbconvert_exporter": "python",
   "pygments_lexer": "ipython3",
   "version": "3.6.13"
  }
 },
 "nbformat": 4,
 "nbformat_minor": 5
}
