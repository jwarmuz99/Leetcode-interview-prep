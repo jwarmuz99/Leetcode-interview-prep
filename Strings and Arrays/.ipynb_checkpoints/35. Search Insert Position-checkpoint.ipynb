{
 "cells": [
  {
   "cell_type": "markdown",
   "id": "c9cd7645-b830-4f8a-b65d-cde73811c02f",
   "metadata": {},
   "source": [
    "https://leetcode.com/problems/search-insert-position/"
   ]
  },
  {
   "cell_type": "code",
   "execution_count": 2,
   "id": "13277d5f-5702-492d-b3ca-f146938433d8",
   "metadata": {},
   "outputs": [],
   "source": [
    "class Solution:\n",
    "    def searchInsert(self, nums, target: int) -> int:\n",
    "        def helper(nums, target, start, end):\n",
    "            if start==end:\n",
    "                return start\n",
    "            mid = (start+end)//2\n",
    "            if nums[mid]<target:\n",
    "                return helper(nums, target, mid+1, end)\n",
    "            else:\n",
    "                return helper(nums, target, start, mid)\n",
    "        return helper(nums, target, 0, len(nums))"
   ]
  },
  {
   "cell_type": "code",
   "execution_count": null,
   "id": "ee0d740b-b111-4c14-a1e1-f6157b79d385",
   "metadata": {},
   "outputs": [],
   "source": []
  }
 ],
 "metadata": {
  "kernelspec": {
   "display_name": "Python 3",
   "language": "python",
   "name": "python3"
  },
  "language_info": {
   "codemirror_mode": {
    "name": "ipython",
    "version": 3
   },
   "file_extension": ".py",
   "mimetype": "text/x-python",
   "name": "python",
   "nbconvert_exporter": "python",
   "pygments_lexer": "ipython3",
   "version": "3.6.13"
  }
 },
 "nbformat": 4,
 "nbformat_minor": 5
}
