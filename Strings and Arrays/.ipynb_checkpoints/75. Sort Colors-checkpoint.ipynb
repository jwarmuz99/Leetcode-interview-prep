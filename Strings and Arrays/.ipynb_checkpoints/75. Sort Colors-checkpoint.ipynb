{
 "cells": [
  {
   "cell_type": "markdown",
   "id": "9c7345c3-7c9c-4917-9c77-f1341abc1b86",
   "metadata": {},
   "source": [
    "https://leetcode.com/problems/sort-colors/"
   ]
  },
  {
   "cell_type": "markdown",
   "id": "301993b6-02d7-47eb-aece-1c92eb9722b7",
   "metadata": {},
   "source": [
    "## Approach #1\n",
    "\n",
    "Calculate the number of instances of each color and run a loop in which you change the array in-place according to the numbers of occurrences of a particular number (color)"
   ]
  },
  {
   "cell_type": "code",
   "execution_count": 1,
   "id": "d4386fc8-b010-4280-829b-38dc04d0642c",
   "metadata": {},
   "outputs": [],
   "source": [
    "from collections import defaultdict\n",
    "class Solution:\n",
    "    def sortColors(self, nums) -> None:\n",
    "        \"\"\"\n",
    "        Do not return anything, modify nums in-place instead.\n",
    "        \"\"\"\n",
    "        d = defaultdict(int)\n",
    "        for i in nums:\n",
    "            d[i]+=1\n",
    "        idx = 0\n",
    "        while idx < d[0]:\n",
    "            nums[idx]=0\n",
    "            idx+=1\n",
    "        while idx < d[0]+d[1]:\n",
    "            nums[idx]=1\n",
    "            idx+=1\n",
    "        while idx < d[0]+d[1]+d[2]:\n",
    "            nums[idx]=2\n",
    "            idx+=1"
   ]
  },
  {
   "cell_type": "markdown",
   "id": "ea6735fb-1e9e-47fd-83ac-a0a0a515e941",
   "metadata": {},
   "source": [
    "## Approach #2\n",
    "\n",
    "Three-way partition. We can use a similar concept as in the quick sort by observing that we have 3 distinct value, just as we have 3 pointers in the quick sort (0,1, and 2 correspond to left, pivot, and right). We can try to sort the array in an iterative way by treatign 1s as a pivot and iterate through the array. When we encounter 0 on our pivot (middle) position, we swap the elements (putting 0 on the left side) and increment left position. When we encounter 2 on our pivot, we swap the elements (putting 2 on the right side) and decrement the right position."
   ]
  },
  {
   "cell_type": "code",
   "execution_count": 2,
   "id": "cdaa2785-1b2d-40f4-a161-f76b0f56c8c4",
   "metadata": {},
   "outputs": [],
   "source": [
    "class Solution:\n",
    "    def sortColors(self, nums) -> None:\n",
    "        \"\"\"\n",
    "        Do not return anything, modify nums in-place instead.\n",
    "        \"\"\"\n",
    "        left, middle, right = 0, 0, len(nums)-1\n",
    "        while middle<=right:\n",
    "            if nums[middle] == 0:\n",
    "                nums[left], nums[middle] = nums[middle], nums[left]\n",
    "                left+=1\n",
    "                middle +=1\n",
    "            elif nums[middle] == 1:\n",
    "                middle += 1\n",
    "            elif nums[middle] == 2:\n",
    "                nums[right], nums[middle] = nums[middle], nums[right]\n",
    "                right-=1"
   ]
  },
  {
   "cell_type": "code",
   "execution_count": null,
   "id": "5ec2531f-167b-4f28-b287-24c8cc81bb37",
   "metadata": {},
   "outputs": [],
   "source": []
  }
 ],
 "metadata": {
  "kernelspec": {
   "display_name": "Python 3",
   "language": "python",
   "name": "python3"
  },
  "language_info": {
   "codemirror_mode": {
    "name": "ipython",
    "version": 3
   },
   "file_extension": ".py",
   "mimetype": "text/x-python",
   "name": "python",
   "nbconvert_exporter": "python",
   "pygments_lexer": "ipython3",
   "version": "3.6.13"
  }
 },
 "nbformat": 4,
 "nbformat_minor": 5
}
