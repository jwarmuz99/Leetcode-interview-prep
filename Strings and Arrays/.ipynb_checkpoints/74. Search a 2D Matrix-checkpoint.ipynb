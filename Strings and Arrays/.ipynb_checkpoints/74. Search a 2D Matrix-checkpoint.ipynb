{
 "cells": [
  {
   "cell_type": "markdown",
   "id": "366a625e-ab15-4c95-bb0c-0758b318e3dc",
   "metadata": {},
   "source": [
    "https://leetcode.com/problems/search-a-2d-matrix/"
   ]
  },
  {
   "cell_type": "markdown",
   "id": "37f54f12-b185-4fa8-afa1-02769e84074f",
   "metadata": {},
   "source": [
    "The idea is to run a nested binary search."
   ]
  },
  {
   "cell_type": "code",
   "execution_count": 2,
   "id": "bfa5993c-8d4c-48a1-84d1-0a707cf8352d",
   "metadata": {},
   "outputs": [],
   "source": [
    "class Solution:\n",
    "    def searchMatrix(self, matrix, target: int) -> bool:\n",
    "        start_n = start_m = 0\n",
    "        end_n = len(matrix)\n",
    "        end_m = len(matrix[0])-1\n",
    "        while start_n!=end_n:\n",
    "            mid_n = (start_n+end_n)//2\n",
    "            if matrix[mid_n][start_m]>target:\n",
    "                end_n = mid_n\n",
    "            elif matrix[mid_n][end_m]<target:\n",
    "                start_n=mid_n+1\n",
    "            else:\n",
    "                start_n=end_n\n",
    "                while start_m<=end_m:\n",
    "                    if start_m==end_m and matrix[mid_n][start_m]!=target:\n",
    "                        break\n",
    "                    mid_m = (start_m+end_m)//2\n",
    "                    if matrix[mid_n][mid_m]<target:\n",
    "                        start_m = mid_m+1\n",
    "                    elif matrix[mid_n][mid_m]>target:\n",
    "                        end_m = mid_m\n",
    "                    else:\n",
    "                        return True\n",
    "        return False"
   ]
  },
  {
   "cell_type": "code",
   "execution_count": null,
   "id": "048ab79c-cb44-4b18-9cb5-a6c6786f1b22",
   "metadata": {},
   "outputs": [],
   "source": []
  }
 ],
 "metadata": {
  "kernelspec": {
   "display_name": "Python 3",
   "language": "python",
   "name": "python3"
  },
  "language_info": {
   "codemirror_mode": {
    "name": "ipython",
    "version": 3
   },
   "file_extension": ".py",
   "mimetype": "text/x-python",
   "name": "python",
   "nbconvert_exporter": "python",
   "pygments_lexer": "ipython3",
   "version": "3.6.13"
  }
 },
 "nbformat": 4,
 "nbformat_minor": 5
}
