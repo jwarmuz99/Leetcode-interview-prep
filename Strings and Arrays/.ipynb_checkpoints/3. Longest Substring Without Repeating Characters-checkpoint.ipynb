{
 "cells": [
  {
   "cell_type": "markdown",
   "id": "c0049c2f-48b4-4e8c-be83-67f07c1b04fa",
   "metadata": {},
   "source": [
    "https://leetcode.com/problems/longest-substring-without-repeating-characters/"
   ]
  },
  {
   "cell_type": "code",
   "execution_count": 36,
   "id": "ff4a8200-3ae5-4dfa-8d98-4562f21c3d3f",
   "metadata": {},
   "outputs": [
    {
     "data": {
      "text/plain": [
       "2"
      ]
     },
     "execution_count": 36,
     "metadata": {},
     "output_type": "execute_result"
    }
   ],
   "source": [
    "class Solution:\n",
    "    def lengthOfLongestSubstring(self, s: str) -> int:\n",
    "        if len(s)<2:\n",
    "            return len(s)\n",
    "        curr = set()\n",
    "        l = 0\n",
    "        r = 0\n",
    "        globmax = 1\n",
    "        while l<len(s)-1 and r<len(s):\n",
    "            if s[r] not in curr:\n",
    "                curr.add(s[r])\n",
    "                if len(s[l:r+1])>globmax:\n",
    "                    globmax = len(s[l:r+1])\n",
    "                \n",
    "            else:\n",
    "                while s[l]!=s[r]:\n",
    "                    curr.remove(s[l])\n",
    "                    l+=1\n",
    "                l+=1\n",
    "            r+=1\n",
    "                    \n",
    "        return globmax\n",
    "    \n",
    "s = \"uua\"\n",
    "Solution().lengthOfLongestSubstring(s)"
   ]
  },
  {
   "cell_type": "code",
   "execution_count": null,
   "id": "ebc91cf6-996c-47d2-b2ef-dbb06310cf19",
   "metadata": {},
   "outputs": [],
   "source": []
  }
 ],
 "metadata": {
  "kernelspec": {
   "display_name": "Python 3",
   "language": "python",
   "name": "python3"
  },
  "language_info": {
   "codemirror_mode": {
    "name": "ipython",
    "version": 3
   },
   "file_extension": ".py",
   "mimetype": "text/x-python",
   "name": "python",
   "nbconvert_exporter": "python",
   "pygments_lexer": "ipython3",
   "version": "3.6.13"
  }
 },
 "nbformat": 4,
 "nbformat_minor": 5
}
