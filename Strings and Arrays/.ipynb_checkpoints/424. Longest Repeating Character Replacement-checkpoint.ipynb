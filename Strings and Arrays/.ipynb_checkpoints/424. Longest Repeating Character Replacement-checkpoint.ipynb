{
 "cells": [
  {
   "cell_type": "markdown",
   "id": "a0c27369-48e4-4ceb-b58d-3247d4279d72",
   "metadata": {},
   "source": [
    "https://leetcode.com/problems/longest-repeating-character-replacement/"
   ]
  },
  {
   "cell_type": "code",
   "execution_count": 7,
   "id": "d24a3d0e-1194-4c25-a2c5-253e4eda9915",
   "metadata": {},
   "outputs": [
    {
     "data": {
      "text/plain": [
       "4"
      ]
     },
     "execution_count": 7,
     "metadata": {},
     "output_type": "execute_result"
    }
   ],
   "source": [
    "class Solution:\n",
    "    def characterReplacement(self, s: str, k: int) -> int:\n",
    "        if len(s)<2:\n",
    "            return len(s)\n",
    "        # create a dictionary holding the letter frequency within a window\n",
    "        counter = {}\n",
    "        # initialize the pointer, maximum letter frequency, and the result\n",
    "        l,maxfreq,result = 0,0,0\n",
    "        # iterate through the entire string with the right pointer\n",
    "        for r in range(len(s)):\n",
    "            # update the counter value at the pointer\n",
    "            counter[s[r]] = 1 + counter.get(s[r], 0)\n",
    "            # update the current max frequency\n",
    "            if maxfreq<counter[s[r]]:\n",
    "                maxfreq = counter[s[r]]\n",
    "            # if we can change the string so that it contains the same characters only, we update the result\n",
    "            # it will be the case if the length of the substring - character with the greatest frequency will be less than or equal to k\n",
    "            if (r-l+1)-maxfreq<=k:\n",
    "                result = max(result, r-l+1)\n",
    "            # if the previous condition is not satisfies, we want to update the left pointer\n",
    "            else:\n",
    "                counter[s[l]]-=1\n",
    "                l+=1\n",
    "        return result\n",
    "    \n",
    "s = \"ABBA\"\n",
    "k = 2\n",
    "Solution().characterReplacement(s,k)"
   ]
  },
  {
   "cell_type": "code",
   "execution_count": null,
   "id": "e1c036ca-fad5-4f56-ba2f-80ff5a6b093e",
   "metadata": {},
   "outputs": [],
   "source": []
  }
 ],
 "metadata": {
  "kernelspec": {
   "display_name": "Python 3",
   "language": "python",
   "name": "python3"
  },
  "language_info": {
   "codemirror_mode": {
    "name": "ipython",
    "version": 3
   },
   "file_extension": ".py",
   "mimetype": "text/x-python",
   "name": "python",
   "nbconvert_exporter": "python",
   "pygments_lexer": "ipython3",
   "version": "3.6.13"
  }
 },
 "nbformat": 4,
 "nbformat_minor": 5
}
