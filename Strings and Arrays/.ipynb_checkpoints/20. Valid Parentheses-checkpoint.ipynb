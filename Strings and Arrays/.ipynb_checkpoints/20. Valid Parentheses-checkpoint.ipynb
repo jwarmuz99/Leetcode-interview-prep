{
 "cells": [
  {
   "cell_type": "markdown",
   "id": "cca061a0-2c47-4c0a-933c-a32b0dda73d4",
   "metadata": {},
   "source": [
    "https://leetcode.com/problems/valid-parentheses/"
   ]
  },
  {
   "cell_type": "code",
   "execution_count": 1,
   "id": "a36e7d86-4ecb-4d57-a81d-375a04020b99",
   "metadata": {},
   "outputs": [],
   "source": [
    "class Solution:\n",
    "    def isValid(self, s: str) -> bool:\n",
    "        if len(s)<2:\n",
    "            return False\n",
    "        hMap = {\n",
    "            \")\" : \"(\",\n",
    "            \"}\" : \"{\",\n",
    "            \"]\" : \"[\"\n",
    "        }\n",
    "        stack = []\n",
    "        for i in s:\n",
    "            if i in hMap.values():\n",
    "                stack.append(i)\n",
    "            else:\n",
    "                if len(stack)==0:\n",
    "                    return False\n",
    "                if stack.pop() != hMap[i]:\n",
    "                    return False\n",
    "        if len(stack)>0:\n",
    "            return False\n",
    "        return True"
   ]
  },
  {
   "cell_type": "code",
   "execution_count": 3,
   "id": "81056f20-34a2-4808-ba90-5dd7eda492cc",
   "metadata": {},
   "outputs": [
    {
     "data": {
      "text/plain": [
       "False"
      ]
     },
     "execution_count": 3,
     "metadata": {},
     "output_type": "execute_result"
    }
   ],
   "source": [
    "s = \"(({[))\"\n",
    "Solution().isValid(s)"
   ]
  },
  {
   "cell_type": "code",
   "execution_count": 4,
   "id": "79d59113-6638-4dc8-acba-e7814d6402a4",
   "metadata": {},
   "outputs": [
    {
     "data": {
      "text/plain": [
       "True"
      ]
     },
     "execution_count": 4,
     "metadata": {},
     "output_type": "execute_result"
    }
   ],
   "source": [
    "s = \"([{({})}])\"\n",
    "Solution().isValid(s)"
   ]
  },
  {
   "cell_type": "code",
   "execution_count": null,
   "id": "1a24085f-1165-4e3c-8c03-fafb1d4b76bd",
   "metadata": {},
   "outputs": [],
   "source": []
  }
 ],
 "metadata": {
  "kernelspec": {
   "display_name": "Python 3",
   "language": "python",
   "name": "python3"
  },
  "language_info": {
   "codemirror_mode": {
    "name": "ipython",
    "version": 3
   },
   "file_extension": ".py",
   "mimetype": "text/x-python",
   "name": "python",
   "nbconvert_exporter": "python",
   "pygments_lexer": "ipython3",
   "version": "3.6.13"
  }
 },
 "nbformat": 4,
 "nbformat_minor": 5
}
