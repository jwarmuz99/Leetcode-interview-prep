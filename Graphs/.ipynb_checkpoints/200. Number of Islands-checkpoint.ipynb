{
 "cells": [
  {
   "cell_type": "markdown",
   "id": "35fa9e80-f6b0-48ee-b4d2-d1bb1993f0c4",
   "metadata": {},
   "source": [
    "https://leetcode.com/problems/number-of-islands/"
   ]
  },
  {
   "cell_type": "code",
   "execution_count": 2,
   "id": "16cf34bf-4677-4509-9cbb-547f37da8048",
   "metadata": {},
   "outputs": [],
   "source": [
    "class Solution:\n",
    "    def numIslands(self, grid) -> int:\n",
    "        ROWS, COLS = len(grid), len(grid[0])\n",
    "        islands = 0\n",
    "        visiting_map = set()\n",
    "        \n",
    "        def bfs(self, r, c):\n",
    "            q = collections.deque()\n",
    "            visiting_map.add((r, c))\n",
    "            q.append((r, c))\n",
    "            \n",
    "            # BFS keep on iterating until we have no more island spaces to visit\n",
    "            while q:\n",
    "                row, col = q.popleft()\n",
    "                # we want to run bfs on each of the neighbors\n",
    "                # we can achieve that by creating a list of directions indicating movements to the left, right, top, bottom\n",
    "                directions = [[1, 0], [-1, 0], [0, 1], [0, -1]]\n",
    "                for dr, dc in directions:\n",
    "                    # define new grid spaces\n",
    "                    r = row + dr\n",
    "                    c = col +dc\n",
    "                    if ((r in range(ROWS)) and \n",
    "                       (c in range(COLS)) and\n",
    "                       (grid[r][c]==\"1\") and\n",
    "                       ((r, c) not in visiting_map)):\n",
    "                        q.append((r, c))\n",
    "                        visiting_map.add((r, c))\n",
    "        \n",
    "        for r in range(ROWS):\n",
    "            for c in range(COLS):\n",
    "                if grid[r][c] == \"1\" and (r, c) not in visiting_map:\n",
    "                    bfs(self, r, c)\n",
    "                    visiting_map.add((r, c))\n",
    "                    islands+=1\n",
    "        return islands"
   ]
  },
  {
   "cell_type": "code",
   "execution_count": null,
   "id": "00b21fd1-cf7f-4746-b21b-7d2e07a02654",
   "metadata": {},
   "outputs": [],
   "source": []
  }
 ],
 "metadata": {
  "kernelspec": {
   "display_name": "Python 3",
   "language": "python",
   "name": "python3"
  },
  "language_info": {
   "codemirror_mode": {
    "name": "ipython",
    "version": 3
   },
   "file_extension": ".py",
   "mimetype": "text/x-python",
   "name": "python",
   "nbconvert_exporter": "python",
   "pygments_lexer": "ipython3",
   "version": "3.8.8"
  }
 },
 "nbformat": 4,
 "nbformat_minor": 5
}
