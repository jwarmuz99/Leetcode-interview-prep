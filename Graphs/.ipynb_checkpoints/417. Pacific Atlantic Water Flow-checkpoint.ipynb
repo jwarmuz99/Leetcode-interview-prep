{
 "cells": [
  {
   "cell_type": "markdown",
   "id": "b05a30b9-10e8-4f7d-875f-138bc082ae77",
   "metadata": {},
   "source": [
    "https://leetcode.com/problems/pacific-atlantic-water-flow/"
   ]
  },
  {
   "cell_type": "markdown",
   "id": "b0283bf9-ff04-4c18-b73a-66a29dbb6f39",
   "metadata": {},
   "source": [
    "- We want to see if we can reach the left- or top-most node from any given node in the matrix for the Pacific ocean\n",
    "- We want to see if we can reach the right- or bottom-most node from any given node in the matrix for the Atlantic ocean\n",
    "\n",
    "The idea is to start from the nodes that boarder an ocean and see which ones can we get to from those. We have to remember that the condition for water flow will be reversed in such a scenario. Initially, the water flows from the higher or equal nodes to the lower or equal ones. Now, because we reversed the problem statement and are looking for graph paths inwards rather than outwards, we will be creating a connection if the node is greater than or equal to the current node. At the end, we will be intersecting the nodes that can get to either of the oceans. The intersection will give us the nodes that have an access to both of the oceans.\n",
    "\n",
    "We will maintain a hash set for the already visited nodes so that we do not add the duplicates (and do not run through the same node multiple times, thus increasing the time complexity)."
   ]
  },
  {
   "cell_type": "code",
   "execution_count": 1,
   "id": "92d02e33-7782-469b-9f5b-39c7f45faa00",
   "metadata": {},
   "outputs": [],
   "source": [
    "# Time Complexity: O(nxm)\n",
    "# Runtime: Faster than 94.17% \n",
    "# Memory Usage: Less than 76.43% \n",
    "\n",
    "def pacificAtlantic(heights):\n",
    "    # get the dimensions of the grid\n",
    "    ROWS, COLS = len(heights), len(heights[0])\n",
    "    # define set of nodes that can reach either of the oceans\n",
    "    pac, atl = set(), set()\n",
    "    \n",
    "    # defining the depth-first search function\n",
    "    def dfs(r, c, visit, prevHeight):\n",
    "        # if the node has already been visited, we will terminate\n",
    "        # we also terminate when we are out of bounds\n",
    "        # we also terminat when the node that we are about to explore has a lower height than the previous node \n",
    "        # (meaning that in our inversed condition the water will not be able to flow)\n",
    "        if ((r, c) in visit or\n",
    "           r < 0 or c < 0 or r == ROWS or c == COLS or\n",
    "           heights[r][c] < prevHeight):\n",
    "            return\n",
    "        # if we haven't terminated then we are visitn a new position (node) so we want to keep track of it\n",
    "        visit.add((r, c))\n",
    "        # and run the dfs on all of the 4 neighbors \n",
    "        # as a prevHeight we provide the height of the current node\n",
    "        dfs(r + 1, c, visit, heights[r][c])\n",
    "        dfs(r - 1, c, visit, heights[r][c])\n",
    "        dfs(r, c + 1, visit, heights[r][c])\n",
    "        dfs(r, c - 1, visit, heights[r][c])\n",
    "    \n",
    "    # loop through each of the columns in the specified ROW\n",
    "    for c in range(COLS):\n",
    "        # go through every column in the first row (top-most row, corresponding to the nodes that are adjacent to the pacific ocean)\n",
    "        dfs(0, c, pac, heights[0][c])\n",
    "        # go through every column in the last row (bottom-most row, corresponding to the nodes that are adjacent to the atlantic ocean)\n",
    "        dfs(ROWS - 1, c, atl, heights[ROWS-1][c])\n",
    "        \n",
    "    # loop through each of the rows in the specified COL\n",
    "    for c in range(ROWS):\n",
    "        # go through every row in the first col (left-most col, corresponding to the nodes that are adjacent to the pacific ocean)\n",
    "        dfs(r, 0, pac, heights[r][0])\n",
    "        # go through every row in the last col (right-most col, corresponding to the nodes that are adjacent to the atlantic ocean)\n",
    "        dfs(r, COLS - 1, atl, heights[r][COLS - 1])\n",
    "        \n",
    "    # return the intersection of the lists (nodes which can reach both of the oceans)\n",
    "    return list(pac.intersection(atl))"
   ]
  },
  {
   "cell_type": "code",
   "execution_count": null,
   "id": "7e930484-bab2-4072-9d51-667025a3669b",
   "metadata": {},
   "outputs": [],
   "source": []
  }
 ],
 "metadata": {
  "kernelspec": {
   "display_name": "Python 3",
   "language": "python",
   "name": "python3"
  },
  "language_info": {
   "codemirror_mode": {
    "name": "ipython",
    "version": 3
   },
   "file_extension": ".py",
   "mimetype": "text/x-python",
   "name": "python",
   "nbconvert_exporter": "python",
   "pygments_lexer": "ipython3",
   "version": "3.6.13"
  }
 },
 "nbformat": 4,
 "nbformat_minor": 5
}
