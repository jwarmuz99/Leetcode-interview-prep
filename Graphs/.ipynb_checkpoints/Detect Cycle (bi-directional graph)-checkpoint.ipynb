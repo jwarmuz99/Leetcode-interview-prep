{
 "cells": [
  {
   "cell_type": "code",
   "execution_count": 1,
   "id": "257376a6-e6fb-4d6b-8c68-a9e0d6c0864b",
   "metadata": {},
   "outputs": [],
   "source": [
    "\"\"\"\n",
    "The graph is of the form:\n",
    "{\n",
    "Node A: [Neighbor 1, Neighbor 2, Neighbor 3],\n",
    "Node B: [Neigbor 1],\n",
    "Node C: []\n",
    "}\n",
    "\"\"\"\n",
    "\n",
    "class Graph:\n",
    "    def __init__(self):\n",
    "        self.edges = {}\n",
    "        \n",
    "    def add_edge(self, start_node, end_node):\n",
    "        if start_node not in self.edges:\n",
    "            self.edges[start_node] = []\n",
    "        if end_node not in self.edges:\n",
    "            self.edges[end_node] = []\n",
    "        self.edges[start_node].append(end_node)\n",
    "        \n",
    "VISITING = 0\n",
    "VISITED = 1\n",
    "\n",
    "def has_cycle(graph):\n",
    "# keep track of the states of the exploration\n",
    "    vertex_states = {}\n",
    "# check for a loop at every vertex in a graph\n",
    "    for vertex in graph.edges:\n",
    "        if dfs(vertex, graph, vertex_states):\n",
    "            return True\n",
    "    return False\n",
    "\n",
    "def dfs(vertex, graph, vertex_states):\n",
    "    # case for a node that we finished visiting and haven't detected a cycle that it is a part of \n",
    "    if vertex in vertex_states and vertex_states[vertex]=='VISITED':\n",
    "        return False\n",
    "# if the node hasn't been yet visited, mark it as visiting and start exploring its neighbors\n",
    "    vertex_states[vertex] = \"VISITING\"\n",
    "    for neighbor in graph.edges[vertex]:\n",
    "# if a neighbor has a state, check what is this\n",
    "        if neighbor in vertex_states:\n",
    "# if a neighbor's state is \"VISITING\", it means we found a cycle\n",
    "            if vertex_states[neighbor] == \"VISITING\":\n",
    "                return True\n",
    "# if the state is \"VISITED\", that means we cannot get back to our original node that we started the exploration from and thus there is no cycle\n",
    "            elif vertex_states[neighbor] == \"VISITED\":\n",
    "                continue\n",
    "# if the neighbor hasn't been checked for yet (as evidenced by lack of its trace in the vertex_states dictionary), run the dfs algorithm on it\n",
    "        else:\n",
    "            if dfs(neighbor, graph, vertex_states):\n",
    "                return True\n",
    "# after all the neighbors were checked for and there is no cycle, label the node as VISITED\n",
    "    vertex_states[vertex] == \"VISITED\"\n",
    "    return False"
   ]
  },
  {
   "cell_type": "code",
   "execution_count": null,
   "id": "bd8b02a8-bde7-4314-b0e2-7bd224eaae51",
   "metadata": {},
   "outputs": [],
   "source": []
  }
 ],
 "metadata": {
  "kernelspec": {
   "display_name": "Python 3",
   "language": "python",
   "name": "python3"
  },
  "language_info": {
   "codemirror_mode": {
    "name": "ipython",
    "version": 3
   },
   "file_extension": ".py",
   "mimetype": "text/x-python",
   "name": "python",
   "nbconvert_exporter": "python",
   "pygments_lexer": "ipython3",
   "version": "3.6.13"
  }
 },
 "nbformat": 4,
 "nbformat_minor": 5
}
