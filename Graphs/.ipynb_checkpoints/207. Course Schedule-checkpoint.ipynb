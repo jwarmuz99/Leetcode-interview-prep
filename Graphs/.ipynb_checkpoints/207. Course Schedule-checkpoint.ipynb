{
 "cells": [
  {
   "cell_type": "markdown",
   "id": "8c714dda-4144-4c0f-b81c-64279c0c6654",
   "metadata": {},
   "source": [
    "https://leetcode.com/problems/course-schedule/"
   ]
  },
  {
   "cell_type": "code",
   "execution_count": 3,
   "id": "5d7addab-107d-4488-bc23-455664c5840a",
   "metadata": {},
   "outputs": [],
   "source": [
    "class Solution:\n",
    "    def canFinish(self, numCourses, prerequisites) -> bool:\n",
    "            # instantiate graph matrix and states list\n",
    "            graph = [[] for _ in range(numCourses)]\n",
    "            visiting_states = [0 for _ in range(numCourses)]\n",
    "            \n",
    "            # fill the graph\n",
    "            for pair in prerequisites:\n",
    "                x, y = pair\n",
    "                graph[x].append(y)\n",
    "            # run the cycle detection DFS algo on each vertex\n",
    "            for i in range(numCourses):\n",
    "                if self.has_cycle(graph, visiting_states, i):\n",
    "                    return False\n",
    "            return True\n",
    "        \n",
    "    def has_cycle(self, graph, visiting_states, i):\n",
    "        \n",
    "        # \"BEING_VISITED\" = -1\n",
    "        # \"DONE_VISITED\" = 1\n",
    "        \n",
    "        # if it is being visited, we detected a cycle so return\n",
    "        if visiting_states[i] == -1:\n",
    "            return True\n",
    "        # if it is done visiting, return False\n",
    "        if visiting_states[i] == 1:\n",
    "            return False\n",
    "        # else:\n",
    "        visiting_states[i] = -1\n",
    "        # and run the algo for each neighbor of that node\n",
    "        for j in graph[i]:\n",
    "            if self.has_cycle(graph, visiting_states, j):\n",
    "                return True\n",
    "        # after we're finished with the exploration of neighbors and none of them had a cycle, we mark the node as done visiting \n",
    "        visiting_states[i] = 1\n",
    "        # if we got here, that means there was no cycle for this node and we return False\n",
    "        return False"
   ]
  },
  {
   "cell_type": "code",
   "execution_count": null,
   "id": "3a400259-1f6b-4ed8-9ea6-3923436d0b84",
   "metadata": {},
   "outputs": [],
   "source": []
  }
 ],
 "metadata": {
  "kernelspec": {
   "display_name": "Python 3",
   "language": "python",
   "name": "python3"
  },
  "language_info": {
   "codemirror_mode": {
    "name": "ipython",
    "version": 3
   },
   "file_extension": ".py",
   "mimetype": "text/x-python",
   "name": "python",
   "nbconvert_exporter": "python",
   "pygments_lexer": "ipython3",
   "version": "3.6.13"
  }
 },
 "nbformat": 4,
 "nbformat_minor": 5
}
