{
 "cells": [
  {
   "cell_type": "markdown",
   "id": "83d60ad1-5c2d-417a-ac87-8442c4b96a59",
   "metadata": {},
   "source": [
    "https://leetcode.com/problems/clone-graph/"
   ]
  },
  {
   "cell_type": "code",
   "execution_count": 1,
   "id": "083bb3ea-b131-44fc-b02f-a60826033c32",
   "metadata": {},
   "outputs": [],
   "source": [
    "\"\"\"\n",
    "# Definition for a Node.\n",
    "class Node:\n",
    "    def __init__(self, val = 0, neighbors = None):\n",
    "        self.val = val\n",
    "        self.neighbors = neighbors if neighbors is not None else []\n",
    "\"\"\"\n",
    "\n",
    "class Solution:\n",
    "    def cloneGraph(self, node: 'Node') -> 'Node':\n",
    "        # handling the case for empty graph\n",
    "        if not node:\n",
    "            return node\n",
    "        # creating a map that stores Node object as a key and a corresponding Node object with no neighbors (yet) as a value\n",
    "        m = {node: Node(node.val)}\n",
    "        # running the main DepthFirsSearch algo on the initial node\n",
    "        self.dfs(node, m)\n",
    "        # returning the output as the first node from the map\n",
    "        return m[node]\n",
    "    \n",
    "    def dfs(self, node, m):\n",
    "        # loop through each of the neighbors\n",
    "        for neigh in node.neighbors:\n",
    "            # if the neighbor is not yet in the map, we add it and run the dfs algo on that node (we're gonna recursively run through all of its ceighbors that are not yet in the map)\n",
    "            if neigh not in m:\n",
    "                #. here, we add the node to the dictionary in a similar way as we did when initializing the map\n",
    "                m[neigh] = Node(neigh.val)\n",
    "                self.dfs(neigh, m)\n",
    "            # if all of the node's neighbors are in the map, meaning that we have reached the depth of recursion, we add the neighbors node to the main node's list of neighbors\n",
    "            # this way, we will have a map of nodes that contain other nodes as their neighbors (rather than just their values)\n",
    "            m[node].neighbors.append(m[neigh])"
   ]
  },
  {
   "cell_type": "code",
   "execution_count": null,
   "id": "90e51423-4c89-436c-8e79-66623fd98561",
   "metadata": {},
   "outputs": [],
   "source": []
  }
 ],
 "metadata": {
  "kernelspec": {
   "display_name": "Python 3",
   "language": "python",
   "name": "python3"
  },
  "language_info": {
   "codemirror_mode": {
    "name": "ipython",
    "version": 3
   },
   "file_extension": ".py",
   "mimetype": "text/x-python",
   "name": "python",
   "nbconvert_exporter": "python",
   "pygments_lexer": "ipython3",
   "version": "3.6.13"
  }
 },
 "nbformat": 4,
 "nbformat_minor": 5
}
