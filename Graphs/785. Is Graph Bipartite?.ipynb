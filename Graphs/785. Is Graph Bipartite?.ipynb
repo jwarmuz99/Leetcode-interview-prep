{
 "cells": [
  {
   "cell_type": "markdown",
   "id": "08f115c0-55c6-4a30-aa2a-5850408d0e39",
   "metadata": {},
   "source": [
    "https://leetcode.com/problems/is-graph-bipartite/"
   ]
  },
  {
   "cell_type": "markdown",
   "id": "6ce3760d-e1f4-41d5-a6bc-4c8cf54a33bb",
   "metadata": {},
   "source": [
    "A graph is bipartite if the nodes can be partitioned into two independent sets A and B such that every edge in the graph connects a node in set A and a node in set B.\n",
    "\n",
    "We have to have a for loop at the beginning to make sure that we traverse through the entire graph. This is because we could potentially have some unconnected nodes, in which case the mere BFS would not traverse the entire thing (if there were no unconnected nodes we could just do the BFS with a queue).\n",
    "\n",
    "The idea with this solution is that the disjoint sets are represented by colors. For each node we want to have such a situation that all of its neighbors have a different color than that node. We keep track of the colors in a list. Additionally, we can keep track of whether a particular node has already been visited. Because of that, we initialize all of the nodes to be in a \"unvisited\" state, labeled as -1, and the colors will be represented by 0 and 1. We can flip the colors with XOR which is used with `^`"
   ]
  },
  {
   "cell_type": "code",
   "execution_count": 2,
   "id": "ead2e17e-b832-4b4b-aae3-4b814dde9a4f",
   "metadata": {},
   "outputs": [],
   "source": [
    "class Solution:\n",
    "    def isBipartite(self, graph) -> bool:\n",
    "        N = len(graph)\n",
    "        colors = [-1]*N\n",
    "        q = deque()\n",
    "        # loop through all of the nodes\n",
    "        for i in range(N):\n",
    "            # if the node has already been visited, skip\n",
    "            if colors[i]!=-1:\n",
    "                continue\n",
    "                # if the node hasn't been visited, add it to the queue\n",
    "                # we add the node number with its corresponding color\n",
    "            q.append((i, 0))\n",
    "            # run bfs \n",
    "            while q:\n",
    "                node, color = q.popleft()\n",
    "                # if the node hasn't yet been visited (meaning that we do not have a color set for it), \n",
    "                # set its color in the colors list (according to the color popped from the queue) \n",
    "                # and add all of its neighbors to the queue (with the changed color)\n",
    "                if colors[node] == -1:\n",
    "                    colors[node] = color\n",
    "                    for neighbor in graph[node]:\n",
    "                        q.append((neighbor, color^1)) # the \"^\" sign is the logical XOR - it flips the bits\n",
    "                # if the color is set (meaning that it is not -1) and it is different from the color of the main node, we have a color conflict and we return false\n",
    "                if colors[node] != color:\n",
    "                    return False\n",
    "        # if we have traversed through the entire graph without a conflict, we return True\n",
    "        return True\n",
    "            "
   ]
  },
  {
   "cell_type": "code",
   "execution_count": null,
   "id": "0b162b11-4100-4fa5-a450-0d8a2464de66",
   "metadata": {},
   "outputs": [],
   "source": []
  }
 ],
 "metadata": {
  "kernelspec": {
   "display_name": "Python 3",
   "language": "python",
   "name": "python3"
  },
  "language_info": {
   "codemirror_mode": {
    "name": "ipython",
    "version": 3
   },
   "file_extension": ".py",
   "mimetype": "text/x-python",
   "name": "python",
   "nbconvert_exporter": "python",
   "pygments_lexer": "ipython3",
   "version": "3.8.8"
  }
 },
 "nbformat": 4,
 "nbformat_minor": 5
}
